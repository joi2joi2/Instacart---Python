{
 "cells": [
  {
   "cell_type": "markdown",
   "id": "0e2ae315",
   "metadata": {},
   "source": [
    "# Import Libraries"
   ]
  },
  {
   "cell_type": "code",
   "execution_count": 2,
   "id": "6cb275fc",
   "metadata": {},
   "outputs": [],
   "source": [
    "# Import Libraries\n",
    "import pandas as pd\n",
    "import numpy as np\n",
    "import os"
   ]
  },
  {
   "cell_type": "markdown",
   "id": "144bdd58",
   "metadata": {},
   "source": [
    "## 1. Python Data Types"
   ]
  },
  {
   "cell_type": "code",
   "execution_count": 3,
   "id": "30b76bd9",
   "metadata": {},
   "outputs": [
    {
     "data": {
      "text/plain": [
       "100"
      ]
     },
     "execution_count": 3,
     "metadata": {},
     "output_type": "execute_result"
    }
   ],
   "source": [
    "# Option 1: Resulting in 100\n",
    "x = 50\n",
    "x + x"
   ]
  },
  {
   "cell_type": "code",
   "execution_count": 4,
   "id": "59d6814d",
   "metadata": {},
   "outputs": [
    {
     "name": "stdout",
     "output_type": "stream",
     "text": [
      "100\n"
     ]
    }
   ],
   "source": [
    "# Option 2: Resulting in 100\n",
    "x = x + 50\n",
    "print(x)"
   ]
  },
  {
   "cell_type": "code",
   "execution_count": 5,
   "id": "63e4aeb0",
   "metadata": {},
   "outputs": [
    {
     "data": {
      "text/plain": [
       "100"
      ]
     },
     "execution_count": 5,
     "metadata": {},
     "output_type": "execute_result"
    }
   ],
   "source": [
    "# Option 3: Resulting in 100\n",
    "y = 200\n",
    "y - x"
   ]
  },
  {
   "cell_type": "code",
   "execution_count": 6,
   "id": "2e8d4147",
   "metadata": {},
   "outputs": [
    {
     "data": {
      "text/plain": [
       "0.17511160714285712"
      ]
     },
     "execution_count": 6,
     "metadata": {},
     "output_type": "execute_result"
    }
   ],
   "source": [
    "# Floating Variables\n",
    "d = 1.569\n",
    "e = 8.96\n",
    "d/e"
   ]
  },
  {
   "cell_type": "code",
   "execution_count": 8,
   "id": "4a8936cb",
   "metadata": {},
   "outputs": [
    {
     "data": {
      "text/plain": [
       "'alphabet'"
      ]
     },
     "execution_count": 8,
     "metadata": {},
     "output_type": "execute_result"
    }
   ],
   "source": [
    "# Concatenate Strings\n",
    "m = 'al'\n",
    "n = 'pha'\n",
    "o = 'bet'\n",
    "m + n + o"
   ]
  },
  {
   "cell_type": "code",
   "execution_count": 9,
   "id": "b8bd3df0",
   "metadata": {},
   "outputs": [
    {
     "data": {
      "text/plain": [
       "'Judi can code.'"
      ]
     },
     "execution_count": 9,
     "metadata": {},
     "output_type": "execute_result"
    }
   ],
   "source": [
    "# Sentence 1\n",
    "a = 'Judi '\n",
    "b = 'can '\n",
    "c = 'code'\n",
    "d = '.'\n",
    "a + b + c + d"
   ]
  },
  {
   "cell_type": "code",
   "execution_count": 12,
   "id": "55d4ee36",
   "metadata": {},
   "outputs": [
    {
     "data": {
      "text/plain": [
       "'Judi can code the alphabet'"
      ]
     },
     "execution_count": 12,
     "metadata": {},
     "output_type": "execute_result"
    }
   ],
   "source": [
    "# Sentence 2\n",
    "a + b + 'code ' + 'the ' + m + n + o"
   ]
  },
  {
   "cell_type": "code",
   "execution_count": 1,
   "id": "0f8684d0",
   "metadata": {},
   "outputs": [
    {
     "data": {
      "text/plain": [
       "'HaHaHaHaHaHaHaHaHaHaHaHaHaHaHaHaHaHaHaHaHaHaHaHaHaHaHaHaHaHaHaHaHaHaHaHaHaHaHaHaHaHaHaHaHaHaHaHaHaHaHaHaHaHaHaHaHaHaHaHaHaHaHaHaHaHaHaHaHaHaHaHaHaHaHaHaHaHaHaHaHaHaHaHaHaHaHaHaHaHaHaHaHaHaHaHaHaHaHaHa'"
      ]
     },
     "execution_count": 1,
     "metadata": {},
     "output_type": "execute_result"
    }
   ],
   "source": [
    "# Bonus Task\n",
    "l = 'Ha'\n",
    "l * 100"
   ]
  }
 ],
 "metadata": {
  "kernelspec": {
   "display_name": "Python 3 (ipykernel)",
   "language": "python",
   "name": "python3"
  },
  "language_info": {
   "codemirror_mode": {
    "name": "ipython",
    "version": 3
   },
   "file_extension": ".py",
   "mimetype": "text/x-python",
   "name": "python",
   "nbconvert_exporter": "python",
   "pygments_lexer": "ipython3",
   "version": "3.9.13"
  }
 },
 "nbformat": 4,
 "nbformat_minor": 5
}
