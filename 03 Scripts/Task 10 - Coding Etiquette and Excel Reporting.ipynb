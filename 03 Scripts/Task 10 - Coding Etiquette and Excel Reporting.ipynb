{
 "cells": [
  {
   "cell_type": "markdown",
   "id": "0e97d5a1",
   "metadata": {},
   "source": [
    "# Content\n",
    "\n",
    "## 1. Compare customer behavior in different geographic areas\n",
    "## 2. Determine spending habits between the different US regions\n",
    "## 3. Determine the activity level of customers\n",
    "## 4. Age profiling of customer database\n",
    "## 5. Income profiling of customer database\n",
    "## 6. Family status profiling of customer database\n",
    "## 7. Product profiling of customer database: Baby Status\n",
    "## 8. Product profiling of customer database: Pet Status\n",
    "## 9. Other Analysis"
   ]
  },
  {
   "cell_type": "markdown",
   "id": "657058f8",
   "metadata": {},
   "source": [
    "# Import Libraries"
   ]
  },
  {
   "cell_type": "code",
   "execution_count": 1,
   "id": "5becc419",
   "metadata": {},
   "outputs": [],
   "source": [
    "# Import Libraries\n",
    "import pandas as pd\n",
    "import numpy as np\n",
    "import os\n",
    "import matplotlib.pyplot as plt\n",
    "import seaborn as sns\n",
    "import scipy"
   ]
  },
  {
   "cell_type": "markdown",
   "id": "83a1809b",
   "metadata": {},
   "source": [
    "# Import Data"
   ]
  },
  {
   "cell_type": "code",
   "execution_count": 2,
   "id": "47de42e3",
   "metadata": {},
   "outputs": [],
   "source": [
    "# String for Main Project Folder\n",
    "path = r'C:\\Users\\ifari\\12-2022 Instacart Basket Analysis'"
   ]
  },
  {
   "cell_type": "code",
   "execution_count": 3,
   "id": "0927bb02",
   "metadata": {},
   "outputs": [],
   "source": [
    "# String to import Data Folder containing orders_products_all.pkl\n",
    "df_all = pd.read_pickle(os.path.join(path, '02 Data','Prepared Data', 'orders_products_all.pkl'))"
   ]
  },
  {
   "cell_type": "code",
   "execution_count": 4,
   "id": "1a2bb4c3",
   "metadata": {
    "scrolled": true
   },
   "outputs": [
    {
     "data": {
      "text/html": [
       "<div>\n",
       "<style scoped>\n",
       "    .dataframe tbody tr th:only-of-type {\n",
       "        vertical-align: middle;\n",
       "    }\n",
       "\n",
       "    .dataframe tbody tr th {\n",
       "        vertical-align: top;\n",
       "    }\n",
       "\n",
       "    .dataframe thead th {\n",
       "        text-align: right;\n",
       "    }\n",
       "</style>\n",
       "<table border=\"1\" class=\"dataframe\">\n",
       "  <thead>\n",
       "    <tr style=\"text-align: right;\">\n",
       "      <th></th>\n",
       "      <th>order_id</th>\n",
       "      <th>user_id</th>\n",
       "      <th>order_number</th>\n",
       "      <th>orders_day_of_week</th>\n",
       "      <th>time_of_order</th>\n",
       "      <th>days_since_prior_order</th>\n",
       "      <th>product_id</th>\n",
       "      <th>add_to_cart_order</th>\n",
       "      <th>reordered</th>\n",
       "      <th>product_name</th>\n",
       "      <th>...</th>\n",
       "      <th>new_customer</th>\n",
       "      <th>first_name</th>\n",
       "      <th>last_name</th>\n",
       "      <th>gender</th>\n",
       "      <th>state</th>\n",
       "      <th>age</th>\n",
       "      <th>date_joined</th>\n",
       "      <th>num_dependants</th>\n",
       "      <th>fam_status</th>\n",
       "      <th>income</th>\n",
       "    </tr>\n",
       "  </thead>\n",
       "  <tbody>\n",
       "    <tr>\n",
       "      <th>0</th>\n",
       "      <td>2539329</td>\n",
       "      <td>1</td>\n",
       "      <td>1</td>\n",
       "      <td>2</td>\n",
       "      <td>8</td>\n",
       "      <td>NaN</td>\n",
       "      <td>196</td>\n",
       "      <td>1</td>\n",
       "      <td>0</td>\n",
       "      <td>Soda</td>\n",
       "      <td>...</td>\n",
       "      <td>True</td>\n",
       "      <td>Linda</td>\n",
       "      <td>Nguyen</td>\n",
       "      <td>Female</td>\n",
       "      <td>Alabama</td>\n",
       "      <td>31</td>\n",
       "      <td>2/17/2019</td>\n",
       "      <td>3</td>\n",
       "      <td>married</td>\n",
       "      <td>40423</td>\n",
       "    </tr>\n",
       "    <tr>\n",
       "      <th>1</th>\n",
       "      <td>2398795</td>\n",
       "      <td>1</td>\n",
       "      <td>2</td>\n",
       "      <td>3</td>\n",
       "      <td>7</td>\n",
       "      <td>15.0</td>\n",
       "      <td>196</td>\n",
       "      <td>1</td>\n",
       "      <td>1</td>\n",
       "      <td>Soda</td>\n",
       "      <td>...</td>\n",
       "      <td>False</td>\n",
       "      <td>Linda</td>\n",
       "      <td>Nguyen</td>\n",
       "      <td>Female</td>\n",
       "      <td>Alabama</td>\n",
       "      <td>31</td>\n",
       "      <td>2/17/2019</td>\n",
       "      <td>3</td>\n",
       "      <td>married</td>\n",
       "      <td>40423</td>\n",
       "    </tr>\n",
       "    <tr>\n",
       "      <th>2</th>\n",
       "      <td>473747</td>\n",
       "      <td>1</td>\n",
       "      <td>3</td>\n",
       "      <td>3</td>\n",
       "      <td>12</td>\n",
       "      <td>21.0</td>\n",
       "      <td>196</td>\n",
       "      <td>1</td>\n",
       "      <td>1</td>\n",
       "      <td>Soda</td>\n",
       "      <td>...</td>\n",
       "      <td>False</td>\n",
       "      <td>Linda</td>\n",
       "      <td>Nguyen</td>\n",
       "      <td>Female</td>\n",
       "      <td>Alabama</td>\n",
       "      <td>31</td>\n",
       "      <td>2/17/2019</td>\n",
       "      <td>3</td>\n",
       "      <td>married</td>\n",
       "      <td>40423</td>\n",
       "    </tr>\n",
       "    <tr>\n",
       "      <th>3</th>\n",
       "      <td>2254736</td>\n",
       "      <td>1</td>\n",
       "      <td>4</td>\n",
       "      <td>4</td>\n",
       "      <td>7</td>\n",
       "      <td>29.0</td>\n",
       "      <td>196</td>\n",
       "      <td>1</td>\n",
       "      <td>1</td>\n",
       "      <td>Soda</td>\n",
       "      <td>...</td>\n",
       "      <td>False</td>\n",
       "      <td>Linda</td>\n",
       "      <td>Nguyen</td>\n",
       "      <td>Female</td>\n",
       "      <td>Alabama</td>\n",
       "      <td>31</td>\n",
       "      <td>2/17/2019</td>\n",
       "      <td>3</td>\n",
       "      <td>married</td>\n",
       "      <td>40423</td>\n",
       "    </tr>\n",
       "    <tr>\n",
       "      <th>4</th>\n",
       "      <td>431534</td>\n",
       "      <td>1</td>\n",
       "      <td>5</td>\n",
       "      <td>4</td>\n",
       "      <td>15</td>\n",
       "      <td>28.0</td>\n",
       "      <td>196</td>\n",
       "      <td>1</td>\n",
       "      <td>1</td>\n",
       "      <td>Soda</td>\n",
       "      <td>...</td>\n",
       "      <td>False</td>\n",
       "      <td>Linda</td>\n",
       "      <td>Nguyen</td>\n",
       "      <td>Female</td>\n",
       "      <td>Alabama</td>\n",
       "      <td>31</td>\n",
       "      <td>2/17/2019</td>\n",
       "      <td>3</td>\n",
       "      <td>married</td>\n",
       "      <td>40423</td>\n",
       "    </tr>\n",
       "  </tbody>\n",
       "</table>\n",
       "<p>5 rows × 33 columns</p>\n",
       "</div>"
      ],
      "text/plain": [
       "   order_id  user_id  order_number  orders_day_of_week  time_of_order  \\\n",
       "0   2539329        1             1                   2              8   \n",
       "1   2398795        1             2                   3              7   \n",
       "2    473747        1             3                   3             12   \n",
       "3   2254736        1             4                   4              7   \n",
       "4    431534        1             5                   4             15   \n",
       "\n",
       "   days_since_prior_order  product_id  add_to_cart_order  reordered  \\\n",
       "0                     NaN         196                  1          0   \n",
       "1                    15.0         196                  1          1   \n",
       "2                    21.0         196                  1          1   \n",
       "3                    29.0         196                  1          1   \n",
       "4                    28.0         196                  1          1   \n",
       "\n",
       "  product_name  ...  new_customer  first_name  last_name  gender    state age  \\\n",
       "0         Soda  ...          True       Linda     Nguyen  Female  Alabama  31   \n",
       "1         Soda  ...         False       Linda     Nguyen  Female  Alabama  31   \n",
       "2         Soda  ...         False       Linda     Nguyen  Female  Alabama  31   \n",
       "3         Soda  ...         False       Linda     Nguyen  Female  Alabama  31   \n",
       "4         Soda  ...         False       Linda     Nguyen  Female  Alabama  31   \n",
       "\n",
       "  date_joined  num_dependants fam_status  income  \n",
       "0   2/17/2019               3    married   40423  \n",
       "1   2/17/2019               3    married   40423  \n",
       "2   2/17/2019               3    married   40423  \n",
       "3   2/17/2019               3    married   40423  \n",
       "4   2/17/2019               3    married   40423  \n",
       "\n",
       "[5 rows x 33 columns]"
      ]
     },
     "execution_count": 4,
     "metadata": {},
     "output_type": "execute_result"
    }
   ],
   "source": [
    "# Dropping \"_merge\" column\n",
    "df_all = df_all.drop(columns = ['_merge'])\n",
    "df_all.head()"
   ]
  },
  {
   "cell_type": "code",
   "execution_count": 5,
   "id": "b0629103",
   "metadata": {},
   "outputs": [
    {
     "data": {
      "text/plain": [
       "Index(['order_id', 'user_id', 'order_number', 'orders_day_of_week',\n",
       "       'time_of_order', 'days_since_prior_order', 'product_id',\n",
       "       'add_to_cart_order', 'reordered', 'product_name', 'aisle_id',\n",
       "       'department_id', 'prices', 'price_range_loc', 'busiest_day',\n",
       "       'busiest_days', 'busiest_period_of_day', 'max_order', 'loyalty_flag',\n",
       "       'avg_price', 'spender_flag', 'median_days_since_prior_order',\n",
       "       'frequency_flag', 'new_customer', 'first_name', 'last_name', 'gender',\n",
       "       'state', 'age', 'date_joined', 'num_dependants', 'fam_status',\n",
       "       'income'],\n",
       "      dtype='object')"
      ]
     },
     "execution_count": 5,
     "metadata": {},
     "output_type": "execute_result"
    }
   ],
   "source": [
    "df_all.columns"
   ]
  },
  {
   "cell_type": "markdown",
   "id": "11fbe88a",
   "metadata": {},
   "source": [
    "> The customer data has PII data, including names, address and salary. This data will remain in the dataframe as it is not specified to remove in the brief. However, it will be noted in the final report."
   ]
  },
  {
   "cell_type": "code",
   "execution_count": 6,
   "id": "50bef608",
   "metadata": {},
   "outputs": [],
   "source": [
    "# String to import Data Folder containing departments_wrangled.pkl\n",
    "df_dept = pd.read_csv(os.path.join(path, '02 Data', 'Prepared Data', 'departments_wrangled.csv'))"
   ]
  },
  {
   "cell_type": "code",
   "execution_count": 7,
   "id": "482df1ff",
   "metadata": {},
   "outputs": [
    {
     "data": {
      "text/html": [
       "<div>\n",
       "<style scoped>\n",
       "    .dataframe tbody tr th:only-of-type {\n",
       "        vertical-align: middle;\n",
       "    }\n",
       "\n",
       "    .dataframe tbody tr th {\n",
       "        vertical-align: top;\n",
       "    }\n",
       "\n",
       "    .dataframe thead th {\n",
       "        text-align: right;\n",
       "    }\n",
       "</style>\n",
       "<table border=\"1\" class=\"dataframe\">\n",
       "  <thead>\n",
       "    <tr style=\"text-align: right;\">\n",
       "      <th></th>\n",
       "      <th>department_id</th>\n",
       "      <th>department</th>\n",
       "    </tr>\n",
       "  </thead>\n",
       "  <tbody>\n",
       "    <tr>\n",
       "      <th>0</th>\n",
       "      <td>1</td>\n",
       "      <td>frozen</td>\n",
       "    </tr>\n",
       "    <tr>\n",
       "      <th>1</th>\n",
       "      <td>2</td>\n",
       "      <td>other</td>\n",
       "    </tr>\n",
       "    <tr>\n",
       "      <th>2</th>\n",
       "      <td>3</td>\n",
       "      <td>bakery</td>\n",
       "    </tr>\n",
       "    <tr>\n",
       "      <th>3</th>\n",
       "      <td>4</td>\n",
       "      <td>produce</td>\n",
       "    </tr>\n",
       "    <tr>\n",
       "      <th>4</th>\n",
       "      <td>5</td>\n",
       "      <td>alcohol</td>\n",
       "    </tr>\n",
       "    <tr>\n",
       "      <th>5</th>\n",
       "      <td>6</td>\n",
       "      <td>international</td>\n",
       "    </tr>\n",
       "    <tr>\n",
       "      <th>6</th>\n",
       "      <td>7</td>\n",
       "      <td>beverages</td>\n",
       "    </tr>\n",
       "    <tr>\n",
       "      <th>7</th>\n",
       "      <td>8</td>\n",
       "      <td>pets</td>\n",
       "    </tr>\n",
       "    <tr>\n",
       "      <th>8</th>\n",
       "      <td>9</td>\n",
       "      <td>dry goods pasta</td>\n",
       "    </tr>\n",
       "    <tr>\n",
       "      <th>9</th>\n",
       "      <td>10</td>\n",
       "      <td>bulk</td>\n",
       "    </tr>\n",
       "    <tr>\n",
       "      <th>10</th>\n",
       "      <td>11</td>\n",
       "      <td>personal care</td>\n",
       "    </tr>\n",
       "    <tr>\n",
       "      <th>11</th>\n",
       "      <td>12</td>\n",
       "      <td>meat seafood</td>\n",
       "    </tr>\n",
       "    <tr>\n",
       "      <th>12</th>\n",
       "      <td>13</td>\n",
       "      <td>pantry</td>\n",
       "    </tr>\n",
       "    <tr>\n",
       "      <th>13</th>\n",
       "      <td>14</td>\n",
       "      <td>breakfast</td>\n",
       "    </tr>\n",
       "    <tr>\n",
       "      <th>14</th>\n",
       "      <td>15</td>\n",
       "      <td>canned goods</td>\n",
       "    </tr>\n",
       "    <tr>\n",
       "      <th>15</th>\n",
       "      <td>16</td>\n",
       "      <td>dairy eggs</td>\n",
       "    </tr>\n",
       "    <tr>\n",
       "      <th>16</th>\n",
       "      <td>17</td>\n",
       "      <td>household</td>\n",
       "    </tr>\n",
       "    <tr>\n",
       "      <th>17</th>\n",
       "      <td>18</td>\n",
       "      <td>babies</td>\n",
       "    </tr>\n",
       "    <tr>\n",
       "      <th>18</th>\n",
       "      <td>19</td>\n",
       "      <td>snacks</td>\n",
       "    </tr>\n",
       "    <tr>\n",
       "      <th>19</th>\n",
       "      <td>20</td>\n",
       "      <td>deli</td>\n",
       "    </tr>\n",
       "    <tr>\n",
       "      <th>20</th>\n",
       "      <td>21</td>\n",
       "      <td>missing</td>\n",
       "    </tr>\n",
       "  </tbody>\n",
       "</table>\n",
       "</div>"
      ],
      "text/plain": [
       "    department_id       department\n",
       "0               1           frozen\n",
       "1               2            other\n",
       "2               3           bakery\n",
       "3               4          produce\n",
       "4               5          alcohol\n",
       "5               6    international\n",
       "6               7        beverages\n",
       "7               8             pets\n",
       "8               9  dry goods pasta\n",
       "9              10             bulk\n",
       "10             11    personal care\n",
       "11             12     meat seafood\n",
       "12             13           pantry\n",
       "13             14        breakfast\n",
       "14             15     canned goods\n",
       "15             16       dairy eggs\n",
       "16             17        household\n",
       "17             18           babies\n",
       "18             19           snacks\n",
       "19             20             deli\n",
       "20             21          missing"
      ]
     },
     "execution_count": 7,
     "metadata": {},
     "output_type": "execute_result"
    }
   ],
   "source": [
    "# Renaming Undamed:0 column to department_id\n",
    "df_dept.rename(columns ={'Unnamed: 0': 'department_id'}, inplace = True)\n",
    "df_dept"
   ]
  },
  {
   "cell_type": "code",
   "execution_count": 8,
   "id": "54158150",
   "metadata": {},
   "outputs": [
    {
     "data": {
      "text/plain": [
       "{1: 'frozen',\n",
       " 2: 'other',\n",
       " 3: 'bakery',\n",
       " 4: 'produce',\n",
       " 5: 'alcohol',\n",
       " 6: 'international',\n",
       " 7: 'beverages',\n",
       " 8: 'pets',\n",
       " 9: 'dry goods pasta',\n",
       " 10: 'bulk',\n",
       " 11: 'personal care',\n",
       " 12: 'meat seafood',\n",
       " 13: 'pantry',\n",
       " 14: 'breakfast',\n",
       " 15: 'canned goods',\n",
       " 16: 'dairy eggs',\n",
       " 17: 'household',\n",
       " 18: 'babies',\n",
       " 19: 'snacks',\n",
       " 20: 'deli',\n",
       " 21: 'missing'}"
      ]
     },
     "execution_count": 8,
     "metadata": {},
     "output_type": "execute_result"
    }
   ],
   "source": [
    "# Turning 'department' dataframe into data dictionary\n",
    "zipped = zip(df_dept['department_id'], df_dept['department'])\n",
    "data_dict = dict(zipped)\n",
    "data_dict"
   ]
  },
  {
   "cell_type": "code",
   "execution_count": 9,
   "id": "fca29bf4",
   "metadata": {},
   "outputs": [],
   "source": [
    "# Connect 'department' names to 'department_id' dataframe\n",
    "df_all['department'] = df_all['department_id'].map(data_dict)"
   ]
  },
  {
   "cell_type": "code",
   "execution_count": 10,
   "id": "964005ff",
   "metadata": {},
   "outputs": [
    {
     "data": {
      "text/html": [
       "<div>\n",
       "<style scoped>\n",
       "    .dataframe tbody tr th:only-of-type {\n",
       "        vertical-align: middle;\n",
       "    }\n",
       "\n",
       "    .dataframe tbody tr th {\n",
       "        vertical-align: top;\n",
       "    }\n",
       "\n",
       "    .dataframe thead th {\n",
       "        text-align: right;\n",
       "    }\n",
       "</style>\n",
       "<table border=\"1\" class=\"dataframe\">\n",
       "  <thead>\n",
       "    <tr style=\"text-align: right;\">\n",
       "      <th></th>\n",
       "      <th>order_id</th>\n",
       "      <th>user_id</th>\n",
       "      <th>order_number</th>\n",
       "      <th>orders_day_of_week</th>\n",
       "      <th>time_of_order</th>\n",
       "      <th>days_since_prior_order</th>\n",
       "      <th>product_id</th>\n",
       "      <th>add_to_cart_order</th>\n",
       "      <th>reordered</th>\n",
       "      <th>product_name</th>\n",
       "      <th>...</th>\n",
       "      <th>first_name</th>\n",
       "      <th>last_name</th>\n",
       "      <th>gender</th>\n",
       "      <th>state</th>\n",
       "      <th>age</th>\n",
       "      <th>date_joined</th>\n",
       "      <th>num_dependants</th>\n",
       "      <th>fam_status</th>\n",
       "      <th>income</th>\n",
       "      <th>department</th>\n",
       "    </tr>\n",
       "  </thead>\n",
       "  <tbody>\n",
       "    <tr>\n",
       "      <th>0</th>\n",
       "      <td>2539329</td>\n",
       "      <td>1</td>\n",
       "      <td>1</td>\n",
       "      <td>2</td>\n",
       "      <td>8</td>\n",
       "      <td>NaN</td>\n",
       "      <td>196</td>\n",
       "      <td>1</td>\n",
       "      <td>0</td>\n",
       "      <td>Soda</td>\n",
       "      <td>...</td>\n",
       "      <td>Linda</td>\n",
       "      <td>Nguyen</td>\n",
       "      <td>Female</td>\n",
       "      <td>Alabama</td>\n",
       "      <td>31</td>\n",
       "      <td>2/17/2019</td>\n",
       "      <td>3</td>\n",
       "      <td>married</td>\n",
       "      <td>40423</td>\n",
       "      <td>beverages</td>\n",
       "    </tr>\n",
       "    <tr>\n",
       "      <th>1</th>\n",
       "      <td>2398795</td>\n",
       "      <td>1</td>\n",
       "      <td>2</td>\n",
       "      <td>3</td>\n",
       "      <td>7</td>\n",
       "      <td>15.0</td>\n",
       "      <td>196</td>\n",
       "      <td>1</td>\n",
       "      <td>1</td>\n",
       "      <td>Soda</td>\n",
       "      <td>...</td>\n",
       "      <td>Linda</td>\n",
       "      <td>Nguyen</td>\n",
       "      <td>Female</td>\n",
       "      <td>Alabama</td>\n",
       "      <td>31</td>\n",
       "      <td>2/17/2019</td>\n",
       "      <td>3</td>\n",
       "      <td>married</td>\n",
       "      <td>40423</td>\n",
       "      <td>beverages</td>\n",
       "    </tr>\n",
       "    <tr>\n",
       "      <th>2</th>\n",
       "      <td>473747</td>\n",
       "      <td>1</td>\n",
       "      <td>3</td>\n",
       "      <td>3</td>\n",
       "      <td>12</td>\n",
       "      <td>21.0</td>\n",
       "      <td>196</td>\n",
       "      <td>1</td>\n",
       "      <td>1</td>\n",
       "      <td>Soda</td>\n",
       "      <td>...</td>\n",
       "      <td>Linda</td>\n",
       "      <td>Nguyen</td>\n",
       "      <td>Female</td>\n",
       "      <td>Alabama</td>\n",
       "      <td>31</td>\n",
       "      <td>2/17/2019</td>\n",
       "      <td>3</td>\n",
       "      <td>married</td>\n",
       "      <td>40423</td>\n",
       "      <td>beverages</td>\n",
       "    </tr>\n",
       "    <tr>\n",
       "      <th>3</th>\n",
       "      <td>2254736</td>\n",
       "      <td>1</td>\n",
       "      <td>4</td>\n",
       "      <td>4</td>\n",
       "      <td>7</td>\n",
       "      <td>29.0</td>\n",
       "      <td>196</td>\n",
       "      <td>1</td>\n",
       "      <td>1</td>\n",
       "      <td>Soda</td>\n",
       "      <td>...</td>\n",
       "      <td>Linda</td>\n",
       "      <td>Nguyen</td>\n",
       "      <td>Female</td>\n",
       "      <td>Alabama</td>\n",
       "      <td>31</td>\n",
       "      <td>2/17/2019</td>\n",
       "      <td>3</td>\n",
       "      <td>married</td>\n",
       "      <td>40423</td>\n",
       "      <td>beverages</td>\n",
       "    </tr>\n",
       "    <tr>\n",
       "      <th>4</th>\n",
       "      <td>431534</td>\n",
       "      <td>1</td>\n",
       "      <td>5</td>\n",
       "      <td>4</td>\n",
       "      <td>15</td>\n",
       "      <td>28.0</td>\n",
       "      <td>196</td>\n",
       "      <td>1</td>\n",
       "      <td>1</td>\n",
       "      <td>Soda</td>\n",
       "      <td>...</td>\n",
       "      <td>Linda</td>\n",
       "      <td>Nguyen</td>\n",
       "      <td>Female</td>\n",
       "      <td>Alabama</td>\n",
       "      <td>31</td>\n",
       "      <td>2/17/2019</td>\n",
       "      <td>3</td>\n",
       "      <td>married</td>\n",
       "      <td>40423</td>\n",
       "      <td>beverages</td>\n",
       "    </tr>\n",
       "    <tr>\n",
       "      <th>5</th>\n",
       "      <td>3367565</td>\n",
       "      <td>1</td>\n",
       "      <td>6</td>\n",
       "      <td>2</td>\n",
       "      <td>7</td>\n",
       "      <td>19.0</td>\n",
       "      <td>196</td>\n",
       "      <td>1</td>\n",
       "      <td>1</td>\n",
       "      <td>Soda</td>\n",
       "      <td>...</td>\n",
       "      <td>Linda</td>\n",
       "      <td>Nguyen</td>\n",
       "      <td>Female</td>\n",
       "      <td>Alabama</td>\n",
       "      <td>31</td>\n",
       "      <td>2/17/2019</td>\n",
       "      <td>3</td>\n",
       "      <td>married</td>\n",
       "      <td>40423</td>\n",
       "      <td>beverages</td>\n",
       "    </tr>\n",
       "    <tr>\n",
       "      <th>6</th>\n",
       "      <td>550135</td>\n",
       "      <td>1</td>\n",
       "      <td>7</td>\n",
       "      <td>1</td>\n",
       "      <td>9</td>\n",
       "      <td>20.0</td>\n",
       "      <td>196</td>\n",
       "      <td>1</td>\n",
       "      <td>1</td>\n",
       "      <td>Soda</td>\n",
       "      <td>...</td>\n",
       "      <td>Linda</td>\n",
       "      <td>Nguyen</td>\n",
       "      <td>Female</td>\n",
       "      <td>Alabama</td>\n",
       "      <td>31</td>\n",
       "      <td>2/17/2019</td>\n",
       "      <td>3</td>\n",
       "      <td>married</td>\n",
       "      <td>40423</td>\n",
       "      <td>beverages</td>\n",
       "    </tr>\n",
       "    <tr>\n",
       "      <th>7</th>\n",
       "      <td>3108588</td>\n",
       "      <td>1</td>\n",
       "      <td>8</td>\n",
       "      <td>1</td>\n",
       "      <td>14</td>\n",
       "      <td>14.0</td>\n",
       "      <td>196</td>\n",
       "      <td>2</td>\n",
       "      <td>1</td>\n",
       "      <td>Soda</td>\n",
       "      <td>...</td>\n",
       "      <td>Linda</td>\n",
       "      <td>Nguyen</td>\n",
       "      <td>Female</td>\n",
       "      <td>Alabama</td>\n",
       "      <td>31</td>\n",
       "      <td>2/17/2019</td>\n",
       "      <td>3</td>\n",
       "      <td>married</td>\n",
       "      <td>40423</td>\n",
       "      <td>beverages</td>\n",
       "    </tr>\n",
       "    <tr>\n",
       "      <th>8</th>\n",
       "      <td>2295261</td>\n",
       "      <td>1</td>\n",
       "      <td>9</td>\n",
       "      <td>1</td>\n",
       "      <td>16</td>\n",
       "      <td>0.0</td>\n",
       "      <td>196</td>\n",
       "      <td>4</td>\n",
       "      <td>1</td>\n",
       "      <td>Soda</td>\n",
       "      <td>...</td>\n",
       "      <td>Linda</td>\n",
       "      <td>Nguyen</td>\n",
       "      <td>Female</td>\n",
       "      <td>Alabama</td>\n",
       "      <td>31</td>\n",
       "      <td>2/17/2019</td>\n",
       "      <td>3</td>\n",
       "      <td>married</td>\n",
       "      <td>40423</td>\n",
       "      <td>beverages</td>\n",
       "    </tr>\n",
       "    <tr>\n",
       "      <th>9</th>\n",
       "      <td>2550362</td>\n",
       "      <td>1</td>\n",
       "      <td>10</td>\n",
       "      <td>4</td>\n",
       "      <td>8</td>\n",
       "      <td>30.0</td>\n",
       "      <td>196</td>\n",
       "      <td>1</td>\n",
       "      <td>1</td>\n",
       "      <td>Soda</td>\n",
       "      <td>...</td>\n",
       "      <td>Linda</td>\n",
       "      <td>Nguyen</td>\n",
       "      <td>Female</td>\n",
       "      <td>Alabama</td>\n",
       "      <td>31</td>\n",
       "      <td>2/17/2019</td>\n",
       "      <td>3</td>\n",
       "      <td>married</td>\n",
       "      <td>40423</td>\n",
       "      <td>beverages</td>\n",
       "    </tr>\n",
       "  </tbody>\n",
       "</table>\n",
       "<p>10 rows × 34 columns</p>\n",
       "</div>"
      ],
      "text/plain": [
       "   order_id  user_id  order_number  orders_day_of_week  time_of_order  \\\n",
       "0   2539329        1             1                   2              8   \n",
       "1   2398795        1             2                   3              7   \n",
       "2    473747        1             3                   3             12   \n",
       "3   2254736        1             4                   4              7   \n",
       "4    431534        1             5                   4             15   \n",
       "5   3367565        1             6                   2              7   \n",
       "6    550135        1             7                   1              9   \n",
       "7   3108588        1             8                   1             14   \n",
       "8   2295261        1             9                   1             16   \n",
       "9   2550362        1            10                   4              8   \n",
       "\n",
       "   days_since_prior_order  product_id  add_to_cart_order  reordered  \\\n",
       "0                     NaN         196                  1          0   \n",
       "1                    15.0         196                  1          1   \n",
       "2                    21.0         196                  1          1   \n",
       "3                    29.0         196                  1          1   \n",
       "4                    28.0         196                  1          1   \n",
       "5                    19.0         196                  1          1   \n",
       "6                    20.0         196                  1          1   \n",
       "7                    14.0         196                  2          1   \n",
       "8                     0.0         196                  4          1   \n",
       "9                    30.0         196                  1          1   \n",
       "\n",
       "  product_name  ...  first_name  last_name  gender    state age date_joined  \\\n",
       "0         Soda  ...       Linda     Nguyen  Female  Alabama  31   2/17/2019   \n",
       "1         Soda  ...       Linda     Nguyen  Female  Alabama  31   2/17/2019   \n",
       "2         Soda  ...       Linda     Nguyen  Female  Alabama  31   2/17/2019   \n",
       "3         Soda  ...       Linda     Nguyen  Female  Alabama  31   2/17/2019   \n",
       "4         Soda  ...       Linda     Nguyen  Female  Alabama  31   2/17/2019   \n",
       "5         Soda  ...       Linda     Nguyen  Female  Alabama  31   2/17/2019   \n",
       "6         Soda  ...       Linda     Nguyen  Female  Alabama  31   2/17/2019   \n",
       "7         Soda  ...       Linda     Nguyen  Female  Alabama  31   2/17/2019   \n",
       "8         Soda  ...       Linda     Nguyen  Female  Alabama  31   2/17/2019   \n",
       "9         Soda  ...       Linda     Nguyen  Female  Alabama  31   2/17/2019   \n",
       "\n",
       "  num_dependants  fam_status income  department  \n",
       "0              3     married  40423   beverages  \n",
       "1              3     married  40423   beverages  \n",
       "2              3     married  40423   beverages  \n",
       "3              3     married  40423   beverages  \n",
       "4              3     married  40423   beverages  \n",
       "5              3     married  40423   beverages  \n",
       "6              3     married  40423   beverages  \n",
       "7              3     married  40423   beverages  \n",
       "8              3     married  40423   beverages  \n",
       "9              3     married  40423   beverages  \n",
       "\n",
       "[10 rows x 34 columns]"
      ]
     },
     "execution_count": 10,
     "metadata": {},
     "output_type": "execute_result"
    }
   ],
   "source": [
    "#First 10 rows of dataframe\n",
    "df_all.head(10)"
   ]
  },
  {
   "cell_type": "markdown",
   "id": "3b60c059",
   "metadata": {},
   "source": [
    "### 1. Compare customer behavior in different geographic areas"
   ]
  },
  {
   "cell_type": "code",
   "execution_count": 11,
   "id": "78b472e3",
   "metadata": {},
   "outputs": [],
   "source": [
    "# Define Regions\n",
    "region1 = ['Maine','New Hampshire','Vermont','Massachusetts','Rhode Island','Connecticut','New York','Pennsylvania','New Jersey']\n",
    "region2 = ['Wisconsin','Michigan','Illinois','Indiana','Ohio','North Dakota','South Dakota','Nebraska','Kansas','Minnesota','Iowa','Missouri']\n",
    "region3 = ['Delaware','Maryland','District of Columbia','Virginia','West Virginia','North Carolina','South Carolina','Georgia','Florida','Kentucky','Tennessee','Mississippi','Alabama','Oklahoma','Texas','Arkansas','Louisiana']\n",
    "region4 = ['Idaho','Montana','Wyoming','Nevada','Utah','Colorado','Arizona','New Mexico','Alaska','Washington','Oregon','California','Hawaii']"
   ]
  },
  {
   "cell_type": "code",
   "execution_count": 12,
   "id": "fc0472aa",
   "metadata": {},
   "outputs": [],
   "source": [
    "# Creating new 'region' column\n",
    "df_all.loc[df_all['state'].isin(region1), 'Region'] = 'Northeast'\n",
    "df_all.loc[df_all['state'].isin(region2), 'Region'] = 'Midwest'\n",
    "df_all.loc[df_all['state'].isin(region3), 'Region'] = 'South'\n",
    "df_all.loc[df_all['state'].isin(region4), 'Region'] = 'West'"
   ]
  },
  {
   "cell_type": "code",
   "execution_count": 13,
   "id": "ee047c05",
   "metadata": {},
   "outputs": [
    {
     "data": {
      "text/plain": [
       "South        10791885\n",
       "West          8292913\n",
       "Midwest       7597325\n",
       "Northeast     5722736\n",
       "Name: Region, dtype: int64"
      ]
     },
     "execution_count": 13,
     "metadata": {},
     "output_type": "execute_result"
    }
   ],
   "source": [
    "# Checking 'region' column\n",
    "df_all['Region'].value_counts(dropna = False)"
   ]
  },
  {
   "cell_type": "code",
   "execution_count": 14,
   "id": "0f74bbf3",
   "metadata": {},
   "outputs": [
    {
     "data": {
      "text/plain": [
       "(32404859, 35)"
      ]
     },
     "execution_count": 14,
     "metadata": {},
     "output_type": "execute_result"
    }
   ],
   "source": [
    "# Checking dimensions of the dataframe\n",
    "df_all.shape"
   ]
  },
  {
   "cell_type": "code",
   "execution_count": 15,
   "id": "ee6671ad",
   "metadata": {},
   "outputs": [
    {
     "data": {
      "text/html": [
       "<div>\n",
       "<style scoped>\n",
       "    .dataframe tbody tr th:only-of-type {\n",
       "        vertical-align: middle;\n",
       "    }\n",
       "\n",
       "    .dataframe tbody tr th {\n",
       "        vertical-align: top;\n",
       "    }\n",
       "\n",
       "    .dataframe thead th {\n",
       "        text-align: right;\n",
       "    }\n",
       "</style>\n",
       "<table border=\"1\" class=\"dataframe\">\n",
       "  <thead>\n",
       "    <tr style=\"text-align: right;\">\n",
       "      <th></th>\n",
       "      <th>order_id</th>\n",
       "      <th>user_id</th>\n",
       "      <th>order_number</th>\n",
       "      <th>orders_day_of_week</th>\n",
       "      <th>time_of_order</th>\n",
       "      <th>days_since_prior_order</th>\n",
       "      <th>product_id</th>\n",
       "      <th>add_to_cart_order</th>\n",
       "      <th>reordered</th>\n",
       "      <th>product_name</th>\n",
       "      <th>...</th>\n",
       "      <th>last_name</th>\n",
       "      <th>gender</th>\n",
       "      <th>state</th>\n",
       "      <th>age</th>\n",
       "      <th>date_joined</th>\n",
       "      <th>num_dependants</th>\n",
       "      <th>fam_status</th>\n",
       "      <th>income</th>\n",
       "      <th>department</th>\n",
       "      <th>Region</th>\n",
       "    </tr>\n",
       "  </thead>\n",
       "  <tbody>\n",
       "    <tr>\n",
       "      <th>0</th>\n",
       "      <td>2539329</td>\n",
       "      <td>1</td>\n",
       "      <td>1</td>\n",
       "      <td>2</td>\n",
       "      <td>8</td>\n",
       "      <td>NaN</td>\n",
       "      <td>196</td>\n",
       "      <td>1</td>\n",
       "      <td>0</td>\n",
       "      <td>Soda</td>\n",
       "      <td>...</td>\n",
       "      <td>Nguyen</td>\n",
       "      <td>Female</td>\n",
       "      <td>Alabama</td>\n",
       "      <td>31</td>\n",
       "      <td>2/17/2019</td>\n",
       "      <td>3</td>\n",
       "      <td>married</td>\n",
       "      <td>40423</td>\n",
       "      <td>beverages</td>\n",
       "      <td>South</td>\n",
       "    </tr>\n",
       "    <tr>\n",
       "      <th>1</th>\n",
       "      <td>2398795</td>\n",
       "      <td>1</td>\n",
       "      <td>2</td>\n",
       "      <td>3</td>\n",
       "      <td>7</td>\n",
       "      <td>15.0</td>\n",
       "      <td>196</td>\n",
       "      <td>1</td>\n",
       "      <td>1</td>\n",
       "      <td>Soda</td>\n",
       "      <td>...</td>\n",
       "      <td>Nguyen</td>\n",
       "      <td>Female</td>\n",
       "      <td>Alabama</td>\n",
       "      <td>31</td>\n",
       "      <td>2/17/2019</td>\n",
       "      <td>3</td>\n",
       "      <td>married</td>\n",
       "      <td>40423</td>\n",
       "      <td>beverages</td>\n",
       "      <td>South</td>\n",
       "    </tr>\n",
       "    <tr>\n",
       "      <th>2</th>\n",
       "      <td>473747</td>\n",
       "      <td>1</td>\n",
       "      <td>3</td>\n",
       "      <td>3</td>\n",
       "      <td>12</td>\n",
       "      <td>21.0</td>\n",
       "      <td>196</td>\n",
       "      <td>1</td>\n",
       "      <td>1</td>\n",
       "      <td>Soda</td>\n",
       "      <td>...</td>\n",
       "      <td>Nguyen</td>\n",
       "      <td>Female</td>\n",
       "      <td>Alabama</td>\n",
       "      <td>31</td>\n",
       "      <td>2/17/2019</td>\n",
       "      <td>3</td>\n",
       "      <td>married</td>\n",
       "      <td>40423</td>\n",
       "      <td>beverages</td>\n",
       "      <td>South</td>\n",
       "    </tr>\n",
       "    <tr>\n",
       "      <th>3</th>\n",
       "      <td>2254736</td>\n",
       "      <td>1</td>\n",
       "      <td>4</td>\n",
       "      <td>4</td>\n",
       "      <td>7</td>\n",
       "      <td>29.0</td>\n",
       "      <td>196</td>\n",
       "      <td>1</td>\n",
       "      <td>1</td>\n",
       "      <td>Soda</td>\n",
       "      <td>...</td>\n",
       "      <td>Nguyen</td>\n",
       "      <td>Female</td>\n",
       "      <td>Alabama</td>\n",
       "      <td>31</td>\n",
       "      <td>2/17/2019</td>\n",
       "      <td>3</td>\n",
       "      <td>married</td>\n",
       "      <td>40423</td>\n",
       "      <td>beverages</td>\n",
       "      <td>South</td>\n",
       "    </tr>\n",
       "    <tr>\n",
       "      <th>4</th>\n",
       "      <td>431534</td>\n",
       "      <td>1</td>\n",
       "      <td>5</td>\n",
       "      <td>4</td>\n",
       "      <td>15</td>\n",
       "      <td>28.0</td>\n",
       "      <td>196</td>\n",
       "      <td>1</td>\n",
       "      <td>1</td>\n",
       "      <td>Soda</td>\n",
       "      <td>...</td>\n",
       "      <td>Nguyen</td>\n",
       "      <td>Female</td>\n",
       "      <td>Alabama</td>\n",
       "      <td>31</td>\n",
       "      <td>2/17/2019</td>\n",
       "      <td>3</td>\n",
       "      <td>married</td>\n",
       "      <td>40423</td>\n",
       "      <td>beverages</td>\n",
       "      <td>South</td>\n",
       "    </tr>\n",
       "  </tbody>\n",
       "</table>\n",
       "<p>5 rows × 35 columns</p>\n",
       "</div>"
      ],
      "text/plain": [
       "   order_id  user_id  order_number  orders_day_of_week  time_of_order  \\\n",
       "0   2539329        1             1                   2              8   \n",
       "1   2398795        1             2                   3              7   \n",
       "2    473747        1             3                   3             12   \n",
       "3   2254736        1             4                   4              7   \n",
       "4    431534        1             5                   4             15   \n",
       "\n",
       "   days_since_prior_order  product_id  add_to_cart_order  reordered  \\\n",
       "0                     NaN         196                  1          0   \n",
       "1                    15.0         196                  1          1   \n",
       "2                    21.0         196                  1          1   \n",
       "3                    29.0         196                  1          1   \n",
       "4                    28.0         196                  1          1   \n",
       "\n",
       "  product_name  ...  last_name  gender    state age date_joined  \\\n",
       "0         Soda  ...     Nguyen  Female  Alabama  31   2/17/2019   \n",
       "1         Soda  ...     Nguyen  Female  Alabama  31   2/17/2019   \n",
       "2         Soda  ...     Nguyen  Female  Alabama  31   2/17/2019   \n",
       "3         Soda  ...     Nguyen  Female  Alabama  31   2/17/2019   \n",
       "4         Soda  ...     Nguyen  Female  Alabama  31   2/17/2019   \n",
       "\n",
       "  num_dependants fam_status  income department  Region  \n",
       "0              3    married   40423  beverages   South  \n",
       "1              3    married   40423  beverages   South  \n",
       "2              3    married   40423  beverages   South  \n",
       "3              3    married   40423  beverages   South  \n",
       "4              3    married   40423  beverages   South  \n",
       "\n",
       "[5 rows x 35 columns]"
      ]
     },
     "execution_count": 15,
     "metadata": {},
     "output_type": "execute_result"
    }
   ],
   "source": [
    "# First 5 rows of the dataframe\n",
    "df_all.head()"
   ]
  },
  {
   "cell_type": "markdown",
   "id": "33db907c",
   "metadata": {},
   "source": [
    "### 2. Determine spending habits between the different US regions"
   ]
  },
  {
   "cell_type": "code",
   "execution_count": 16,
   "id": "4376dbf1",
   "metadata": {},
   "outputs": [
    {
     "data": {
      "text/html": [
       "<div>\n",
       "<style scoped>\n",
       "    .dataframe tbody tr th:only-of-type {\n",
       "        vertical-align: middle;\n",
       "    }\n",
       "\n",
       "    .dataframe tbody tr th {\n",
       "        vertical-align: top;\n",
       "    }\n",
       "\n",
       "    .dataframe thead th {\n",
       "        text-align: right;\n",
       "    }\n",
       "</style>\n",
       "<table border=\"1\" class=\"dataframe\">\n",
       "  <thead>\n",
       "    <tr style=\"text-align: right;\">\n",
       "      <th>spender_flag</th>\n",
       "      <th>High spender</th>\n",
       "      <th>Low spender</th>\n",
       "    </tr>\n",
       "    <tr>\n",
       "      <th>Region</th>\n",
       "      <th></th>\n",
       "      <th></th>\n",
       "    </tr>\n",
       "  </thead>\n",
       "  <tbody>\n",
       "    <tr>\n",
       "      <th>Midwest</th>\n",
       "      <td>155975</td>\n",
       "      <td>7441350</td>\n",
       "    </tr>\n",
       "    <tr>\n",
       "      <th>Northeast</th>\n",
       "      <td>108225</td>\n",
       "      <td>5614511</td>\n",
       "    </tr>\n",
       "    <tr>\n",
       "      <th>South</th>\n",
       "      <td>209691</td>\n",
       "      <td>10582194</td>\n",
       "    </tr>\n",
       "    <tr>\n",
       "      <th>West</th>\n",
       "      <td>160354</td>\n",
       "      <td>8132559</td>\n",
       "    </tr>\n",
       "  </tbody>\n",
       "</table>\n",
       "</div>"
      ],
      "text/plain": [
       "spender_flag  High spender  Low spender\n",
       "Region                                 \n",
       "Midwest             155975      7441350\n",
       "Northeast           108225      5614511\n",
       "South               209691     10582194\n",
       "West                160354      8132559"
      ]
     },
     "execution_count": 16,
     "metadata": {},
     "output_type": "execute_result"
    }
   ],
   "source": [
    "# Compare regions with 'spender_flag'\n",
    "pd.crosstab(df_all['Region'], df_all['spender_flag'], dropna = False)"
   ]
  },
  {
   "cell_type": "markdown",
   "id": "0b62e989",
   "metadata": {},
   "source": [
    "### 3. Determine activity level of customers"
   ]
  },
  {
   "cell_type": "code",
   "execution_count": 17,
   "id": "538cf515",
   "metadata": {},
   "outputs": [],
   "source": [
    "# Create an 'activity_flag'\n",
    "df_all.loc[df_all['max_order'] < 5, 'activity_flag'] = 'Low Activity'\n",
    "df_all.loc[df_all['max_order'] >= 5, 'activity_flag'] = 'High Activity'"
   ]
  },
  {
   "cell_type": "code",
   "execution_count": 18,
   "id": "f101a745",
   "metadata": {},
   "outputs": [
    {
     "data": {
      "text/plain": [
       "High Activity    30964564\n",
       "Low Activity      1440295\n",
       "Name: activity_flag, dtype: int64"
      ]
     },
     "execution_count": 18,
     "metadata": {},
     "output_type": "execute_result"
    }
   ],
   "source": [
    "# Checking 'activity_flag' column\n",
    "df_all['activity_flag'].value_counts(dropna = False)"
   ]
  },
  {
   "cell_type": "code",
   "execution_count": 19,
   "id": "1394c532",
   "metadata": {},
   "outputs": [
    {
     "data": {
      "text/html": [
       "<div>\n",
       "<style scoped>\n",
       "    .dataframe tbody tr th:only-of-type {\n",
       "        vertical-align: middle;\n",
       "    }\n",
       "\n",
       "    .dataframe tbody tr th {\n",
       "        vertical-align: top;\n",
       "    }\n",
       "\n",
       "    .dataframe thead th {\n",
       "        text-align: right;\n",
       "    }\n",
       "</style>\n",
       "<table border=\"1\" class=\"dataframe\">\n",
       "  <thead>\n",
       "    <tr style=\"text-align: right;\">\n",
       "      <th>activity_flag</th>\n",
       "      <th>High Activity</th>\n",
       "      <th>Low Activity</th>\n",
       "    </tr>\n",
       "    <tr>\n",
       "      <th>Region</th>\n",
       "      <th></th>\n",
       "      <th></th>\n",
       "    </tr>\n",
       "  </thead>\n",
       "  <tbody>\n",
       "    <tr>\n",
       "      <th>Midwest</th>\n",
       "      <td>7261513</td>\n",
       "      <td>335812</td>\n",
       "    </tr>\n",
       "    <tr>\n",
       "      <th>Northeast</th>\n",
       "      <td>5464685</td>\n",
       "      <td>258051</td>\n",
       "    </tr>\n",
       "    <tr>\n",
       "      <th>South</th>\n",
       "      <td>10311139</td>\n",
       "      <td>480746</td>\n",
       "    </tr>\n",
       "    <tr>\n",
       "      <th>West</th>\n",
       "      <td>7927227</td>\n",
       "      <td>365686</td>\n",
       "    </tr>\n",
       "  </tbody>\n",
       "</table>\n",
       "</div>"
      ],
      "text/plain": [
       "activity_flag  High Activity  Low Activity\n",
       "Region                                    \n",
       "Midwest              7261513        335812\n",
       "Northeast            5464685        258051\n",
       "South               10311139        480746\n",
       "West                 7927227        365686"
      ]
     },
     "execution_count": 19,
     "metadata": {},
     "output_type": "execute_result"
    }
   ],
   "source": [
    "# Compare regions with 'activity_flag'\n",
    "pd.crosstab(df_all['Region'], df_all['activity_flag'], dropna = False)"
   ]
  },
  {
   "cell_type": "code",
   "execution_count": 20,
   "id": "b966b169",
   "metadata": {},
   "outputs": [],
   "source": [
    "# Create a subset of data for high activity customers\n",
    "df_all_high = df_all[df_all['activity_flag'] == 'High Activity']"
   ]
  },
  {
   "cell_type": "markdown",
   "id": "883d13fc",
   "metadata": {},
   "source": [
    "> Subset only contains data for high activity customers (excluding low activity customers)."
   ]
  },
  {
   "cell_type": "code",
   "execution_count": 21,
   "id": "63e96fa2",
   "metadata": {},
   "outputs": [
    {
     "data": {
      "text/plain": [
       "(30964564, 36)"
      ]
     },
     "execution_count": 21,
     "metadata": {},
     "output_type": "execute_result"
    }
   ],
   "source": [
    "# Checking dimensions the dataframe\n",
    "df_all_high.shape"
   ]
  },
  {
   "cell_type": "code",
   "execution_count": 22,
   "id": "7e0e855c",
   "metadata": {},
   "outputs": [],
   "source": [
    "# Exported high activity customers dataframe\n",
    "df_all_high.to_pickle(os.path.join(path, '02 Data', 'Prepared Data', 'high_activity.pkl'))"
   ]
  },
  {
   "cell_type": "markdown",
   "id": "136bb654",
   "metadata": {},
   "source": [
    "### 4. Age profiling of customer database"
   ]
  },
  {
   "cell_type": "code",
   "execution_count": 23,
   "id": "f89e10fe",
   "metadata": {
    "scrolled": true
   },
   "outputs": [
    {
     "data": {
      "text/plain": [
       "count    3.240486e+07\n",
       "mean     4.946527e+01\n",
       "std      1.848558e+01\n",
       "min      1.800000e+01\n",
       "25%      3.300000e+01\n",
       "50%      4.900000e+01\n",
       "75%      6.500000e+01\n",
       "max      8.100000e+01\n",
       "Name: age, dtype: float64"
      ]
     },
     "execution_count": 23,
     "metadata": {},
     "output_type": "execute_result"
    }
   ],
   "source": [
    "# Descriptive statistics of 'age'\n",
    "df_all['age'].describe()"
   ]
  },
  {
   "cell_type": "code",
   "execution_count": 24,
   "id": "15ece161",
   "metadata": {},
   "outputs": [],
   "source": [
    "# Create an 'age_group'\n",
    "df_all.loc[df_all['age'] <= 35, 'age_group'] = 'Young Adult'\n",
    "df_all.loc[(df_all['age'] > 35) & (df_all['age'] < 60), 'age_group'] = 'Middle-Aged Adult'\n",
    "df_all.loc[df_all['age'] >= 60, 'age_group'] = 'Old Adult'"
   ]
  },
  {
   "cell_type": "code",
   "execution_count": 25,
   "id": "e4ae04c7",
   "metadata": {},
   "outputs": [
    {
     "data": {
      "text/plain": [
       "Middle-Aged Adult    12191185\n",
       "Old Adult            11067255\n",
       "Young Adult           9146419\n",
       "Name: age_group, dtype: int64"
      ]
     },
     "execution_count": 25,
     "metadata": {},
     "output_type": "execute_result"
    }
   ],
   "source": [
    "# Checking 'age_group' column\n",
    "df_all['age_group'].value_counts(dropna = False)"
   ]
  },
  {
   "cell_type": "code",
   "execution_count": 26,
   "id": "1acc8ec8",
   "metadata": {},
   "outputs": [
    {
     "data": {
      "image/png": "[encoded data removed]",
      "text/plain": [
       "<Figure size 640x480 with 1 Axes>"
      ]
     },
     "metadata": {},
     "output_type": "display_data"
    }
   ],
   "source": [
    "# Create a bar chart for 'age_group'\n",
    "bar1 = df_all['age_group'].value_counts().plot.bar()"
   ]
  },
  {
   "cell_type": "markdown",
   "id": "cdfc0a54",
   "metadata": {},
   "source": [
    "> Most of the customers are middle-aged adults with old adults and then young adults following right after."
   ]
  },
  {
   "cell_type": "code",
   "execution_count": 27,
   "id": "b5621a16",
   "metadata": {},
   "outputs": [],
   "source": [
    "# Export chart\n",
    "bar1.figure.savefig(os.path.join(path, '04 Analysis','Visualizations', 'bar_age_group.png'))"
   ]
  },
  {
   "cell_type": "code",
   "execution_count": 28,
   "id": "9478a93b",
   "metadata": {},
   "outputs": [
    {
     "data": {
      "text/html": [
       "<div>\n",
       "<style scoped>\n",
       "    .dataframe tbody tr th:only-of-type {\n",
       "        vertical-align: middle;\n",
       "    }\n",
       "\n",
       "    .dataframe tbody tr th {\n",
       "        vertical-align: top;\n",
       "    }\n",
       "\n",
       "    .dataframe thead tr th {\n",
       "        text-align: left;\n",
       "    }\n",
       "\n",
       "    .dataframe thead tr:last-of-type th {\n",
       "        text-align: right;\n",
       "    }\n",
       "</style>\n",
       "<table border=\"1\" class=\"dataframe\">\n",
       "  <thead>\n",
       "    <tr>\n",
       "      <th></th>\n",
       "      <th colspan=\"3\" halign=\"left\">days_since_prior_order</th>\n",
       "    </tr>\n",
       "    <tr>\n",
       "      <th></th>\n",
       "      <th>mean</th>\n",
       "      <th>min</th>\n",
       "      <th>max</th>\n",
       "    </tr>\n",
       "    <tr>\n",
       "      <th>age_group</th>\n",
       "      <th></th>\n",
       "      <th></th>\n",
       "      <th></th>\n",
       "    </tr>\n",
       "  </thead>\n",
       "  <tbody>\n",
       "    <tr>\n",
       "      <th>Middle-Aged Adult</th>\n",
       "      <td>11.098956</td>\n",
       "      <td>0.0</td>\n",
       "      <td>30.0</td>\n",
       "    </tr>\n",
       "    <tr>\n",
       "      <th>Old Adult</th>\n",
       "      <td>11.092552</td>\n",
       "      <td>0.0</td>\n",
       "      <td>30.0</td>\n",
       "    </tr>\n",
       "    <tr>\n",
       "      <th>Young Adult</th>\n",
       "      <td>11.124858</td>\n",
       "      <td>0.0</td>\n",
       "      <td>30.0</td>\n",
       "    </tr>\n",
       "  </tbody>\n",
       "</table>\n",
       "</div>"
      ],
      "text/plain": [
       "                  days_since_prior_order           \n",
       "                                    mean  min   max\n",
       "age_group                                          \n",
       "Middle-Aged Adult              11.098956  0.0  30.0\n",
       "Old Adult                      11.092552  0.0  30.0\n",
       "Young Adult                    11.124858  0.0  30.0"
      ]
     },
     "execution_count": 28,
     "metadata": {},
     "output_type": "execute_result"
    }
   ],
   "source": [
    "# Aggregate for 'age_group' useage frequency\n",
    "df_all.groupby('age_group').agg({'days_since_prior_order':['mean', 'min','max']})"
   ]
  },
  {
   "cell_type": "code",
   "execution_count": 29,
   "id": "48a57011",
   "metadata": {},
   "outputs": [
    {
     "data": {
      "text/html": [
       "<div>\n",
       "<style scoped>\n",
       "    .dataframe tbody tr th:only-of-type {\n",
       "        vertical-align: middle;\n",
       "    }\n",
       "\n",
       "    .dataframe tbody tr th {\n",
       "        vertical-align: top;\n",
       "    }\n",
       "\n",
       "    .dataframe thead tr th {\n",
       "        text-align: left;\n",
       "    }\n",
       "\n",
       "    .dataframe thead tr:last-of-type th {\n",
       "        text-align: right;\n",
       "    }\n",
       "</style>\n",
       "<table border=\"1\" class=\"dataframe\">\n",
       "  <thead>\n",
       "    <tr>\n",
       "      <th></th>\n",
       "      <th colspan=\"3\" halign=\"left\">prices</th>\n",
       "    </tr>\n",
       "    <tr>\n",
       "      <th></th>\n",
       "      <th>mean</th>\n",
       "      <th>min</th>\n",
       "      <th>max</th>\n",
       "    </tr>\n",
       "    <tr>\n",
       "      <th>age_group</th>\n",
       "      <th></th>\n",
       "      <th></th>\n",
       "      <th></th>\n",
       "    </tr>\n",
       "  </thead>\n",
       "  <tbody>\n",
       "    <tr>\n",
       "      <th>Middle-Aged Adult</th>\n",
       "      <td>12.068365</td>\n",
       "      <td>1.0</td>\n",
       "      <td>99999.0</td>\n",
       "    </tr>\n",
       "    <tr>\n",
       "      <th>Old Adult</th>\n",
       "      <td>11.763336</td>\n",
       "      <td>1.0</td>\n",
       "      <td>99999.0</td>\n",
       "    </tr>\n",
       "    <tr>\n",
       "      <th>Young Adult</th>\n",
       "      <td>12.125184</td>\n",
       "      <td>1.0</td>\n",
       "      <td>99999.0</td>\n",
       "    </tr>\n",
       "  </tbody>\n",
       "</table>\n",
       "</div>"
      ],
      "text/plain": [
       "                      prices              \n",
       "                        mean  min      max\n",
       "age_group                                 \n",
       "Middle-Aged Adult  12.068365  1.0  99999.0\n",
       "Old Adult          11.763336  1.0  99999.0\n",
       "Young Adult        12.125184  1.0  99999.0"
      ]
     },
     "execution_count": 29,
     "metadata": {},
     "output_type": "execute_result"
    }
   ],
   "source": [
    "# Aggregate for 'age_group' expenditure \n",
    "df_all.groupby('age_group').agg({'prices':['mean', 'min','max']})"
   ]
  },
  {
   "cell_type": "code",
   "execution_count": 30,
   "id": "a1318b34",
   "metadata": {},
   "outputs": [
    {
     "data": {
      "text/html": [
       "<div>\n",
       "<style scoped>\n",
       "    .dataframe tbody tr th:only-of-type {\n",
       "        vertical-align: middle;\n",
       "    }\n",
       "\n",
       "    .dataframe tbody tr th {\n",
       "        vertical-align: top;\n",
       "    }\n",
       "\n",
       "    .dataframe thead th {\n",
       "        text-align: right;\n",
       "    }\n",
       "</style>\n",
       "<table border=\"1\" class=\"dataframe\">\n",
       "  <thead>\n",
       "    <tr style=\"text-align: right;\">\n",
       "      <th>age_group</th>\n",
       "      <th>Middle-Aged Adult</th>\n",
       "      <th>Old Adult</th>\n",
       "      <th>Young Adult</th>\n",
       "    </tr>\n",
       "    <tr>\n",
       "      <th>Region</th>\n",
       "      <th></th>\n",
       "      <th></th>\n",
       "      <th></th>\n",
       "    </tr>\n",
       "  </thead>\n",
       "  <tbody>\n",
       "    <tr>\n",
       "      <th>Midwest</th>\n",
       "      <td>2913052</td>\n",
       "      <td>2569538</td>\n",
       "      <td>2114735</td>\n",
       "    </tr>\n",
       "    <tr>\n",
       "      <th>Northeast</th>\n",
       "      <td>2126330</td>\n",
       "      <td>1973103</td>\n",
       "      <td>1623303</td>\n",
       "    </tr>\n",
       "    <tr>\n",
       "      <th>South</th>\n",
       "      <td>4019241</td>\n",
       "      <td>3685583</td>\n",
       "      <td>3087061</td>\n",
       "    </tr>\n",
       "    <tr>\n",
       "      <th>West</th>\n",
       "      <td>3132562</td>\n",
       "      <td>2839031</td>\n",
       "      <td>2321320</td>\n",
       "    </tr>\n",
       "  </tbody>\n",
       "</table>\n",
       "</div>"
      ],
      "text/plain": [
       "age_group  Middle-Aged Adult  Old Adult  Young Adult\n",
       "Region                                              \n",
       "Midwest              2913052    2569538      2114735\n",
       "Northeast            2126330    1973103      1623303\n",
       "South                4019241    3685583      3087061\n",
       "West                 3132562    2839031      2321320"
      ]
     },
     "execution_count": 30,
     "metadata": {},
     "output_type": "execute_result"
    }
   ],
   "source": [
    "# Compare 'region' with 'age_group'\n",
    "region_age = pd.crosstab(df_all['Region'], df_all['age_group'], dropna = False)\n",
    "region_age"
   ]
  },
  {
   "cell_type": "code",
   "execution_count": 31,
   "id": "606bcfe5",
   "metadata": {},
   "outputs": [
    {
     "data": {
      "image/png": "[encoded data removed]",
      "text/plain": [
       "<Figure size 640x480 with 1 Axes>"
      ]
     },
     "metadata": {},
     "output_type": "display_data"
    }
   ],
   "source": [
    "# Create a stacked bar chart for 'region_age'\n",
    "bar2 = region_age.plot(kind = 'bar', stacked = True)"
   ]
  },
  {
   "cell_type": "markdown",
   "id": "46767043",
   "metadata": {},
   "source": [
    "> Each region seem to have a proportional age groupings. However, the South region has the highest number of customers in each age group."
   ]
  },
  {
   "cell_type": "code",
   "execution_count": 32,
   "id": "f530c123",
   "metadata": {},
   "outputs": [],
   "source": [
    "# Export chart\n",
    "bar2.figure.savefig(os.path.join(path, '04 Analysis','Visualizations', 'bar_region_vs_age.png'))"
   ]
  },
  {
   "cell_type": "code",
   "execution_count": 33,
   "id": "70c97fbd",
   "metadata": {},
   "outputs": [
    {
     "data": {
      "text/html": [
       "<div>\n",
       "<style scoped>\n",
       "    .dataframe tbody tr th:only-of-type {\n",
       "        vertical-align: middle;\n",
       "    }\n",
       "\n",
       "    .dataframe tbody tr th {\n",
       "        vertical-align: top;\n",
       "    }\n",
       "\n",
       "    .dataframe thead th {\n",
       "        text-align: right;\n",
       "    }\n",
       "</style>\n",
       "<table border=\"1\" class=\"dataframe\">\n",
       "  <thead>\n",
       "    <tr style=\"text-align: right;\">\n",
       "      <th>age_group</th>\n",
       "      <th>Middle-Aged Adult</th>\n",
       "      <th>Old Adult</th>\n",
       "      <th>Young Adult</th>\n",
       "    </tr>\n",
       "    <tr>\n",
       "      <th>loyalty_flag</th>\n",
       "      <th></th>\n",
       "      <th></th>\n",
       "      <th></th>\n",
       "    </tr>\n",
       "  </thead>\n",
       "  <tbody>\n",
       "    <tr>\n",
       "      <th>Loyal customer</th>\n",
       "      <td>3895771</td>\n",
       "      <td>3514773</td>\n",
       "      <td>2873549</td>\n",
       "    </tr>\n",
       "    <tr>\n",
       "      <th>New customer</th>\n",
       "      <td>2336651</td>\n",
       "      <td>2142726</td>\n",
       "      <td>1764613</td>\n",
       "    </tr>\n",
       "    <tr>\n",
       "      <th>Regular customer</th>\n",
       "      <td>5958763</td>\n",
       "      <td>5409756</td>\n",
       "      <td>4508257</td>\n",
       "    </tr>\n",
       "  </tbody>\n",
       "</table>\n",
       "</div>"
      ],
      "text/plain": [
       "age_group         Middle-Aged Adult  Old Adult  Young Adult\n",
       "loyalty_flag                                               \n",
       "Loyal customer              3895771    3514773      2873549\n",
       "New customer                2336651    2142726      1764613\n",
       "Regular customer            5958763    5409756      4508257"
      ]
     },
     "execution_count": 33,
     "metadata": {},
     "output_type": "execute_result"
    }
   ],
   "source": [
    "# Compare 'loyalty_flag' with 'age_group'\n",
    "loyalty_age = pd.crosstab(df_all['loyalty_flag'], df_all['age_group'], dropna = False)\n",
    "loyalty_age"
   ]
  },
  {
   "cell_type": "code",
   "execution_count": 34,
   "id": "aa700de4",
   "metadata": {},
   "outputs": [
    {
     "data": {
      "image/png": "[encoded data removed]",
      "text/plain": [
       "<Figure size 640x480 with 1 Axes>"
      ]
     },
     "metadata": {},
     "output_type": "display_data"
    }
   ],
   "source": [
    "# Create a stacked bar chart for 'loyalty_age'\n",
    "bar3 = loyalty_age.plot(kind = 'bar', stacked = True)"
   ]
  },
  {
   "cell_type": "code",
   "execution_count": 35,
   "id": "e1847533",
   "metadata": {},
   "outputs": [],
   "source": [
    "# Export chart\n",
    "bar3.figure.savefig(os.path.join(path, '04 Analysis','Visualizations', 'bar_loyalty_vs_age.png'))"
   ]
  },
  {
   "cell_type": "code",
   "execution_count": 36,
   "id": "8fb633c0",
   "metadata": {},
   "outputs": [
    {
     "data": {
      "text/html": [
       "<div>\n",
       "<style scoped>\n",
       "    .dataframe tbody tr th:only-of-type {\n",
       "        vertical-align: middle;\n",
       "    }\n",
       "\n",
       "    .dataframe tbody tr th {\n",
       "        vertical-align: top;\n",
       "    }\n",
       "\n",
       "    .dataframe thead th {\n",
       "        text-align: right;\n",
       "    }\n",
       "</style>\n",
       "<table border=\"1\" class=\"dataframe\">\n",
       "  <thead>\n",
       "    <tr style=\"text-align: right;\">\n",
       "      <th>age_group</th>\n",
       "      <th>Middle-Aged Adult</th>\n",
       "      <th>Old Adult</th>\n",
       "      <th>Young Adult</th>\n",
       "    </tr>\n",
       "    <tr>\n",
       "      <th>department</th>\n",
       "      <th></th>\n",
       "      <th></th>\n",
       "      <th></th>\n",
       "    </tr>\n",
       "  </thead>\n",
       "  <tbody>\n",
       "    <tr>\n",
       "      <th>alcohol</th>\n",
       "      <td>58105</td>\n",
       "      <td>50664</td>\n",
       "      <td>44927</td>\n",
       "    </tr>\n",
       "    <tr>\n",
       "      <th>babies</th>\n",
       "      <td>163485</td>\n",
       "      <td>142912</td>\n",
       "      <td>117405</td>\n",
       "    </tr>\n",
       "    <tr>\n",
       "      <th>bakery</th>\n",
       "      <td>440526</td>\n",
       "      <td>400020</td>\n",
       "      <td>331882</td>\n",
       "    </tr>\n",
       "    <tr>\n",
       "      <th>beverages</th>\n",
       "      <td>1014176</td>\n",
       "      <td>923708</td>\n",
       "      <td>750239</td>\n",
       "    </tr>\n",
       "    <tr>\n",
       "      <th>breakfast</th>\n",
       "      <td>263525</td>\n",
       "      <td>238897</td>\n",
       "      <td>200611</td>\n",
       "    </tr>\n",
       "    <tr>\n",
       "      <th>bulk</th>\n",
       "      <td>12843</td>\n",
       "      <td>11803</td>\n",
       "      <td>9927</td>\n",
       "    </tr>\n",
       "    <tr>\n",
       "      <th>canned goods</th>\n",
       "      <td>401142</td>\n",
       "      <td>363738</td>\n",
       "      <td>303178</td>\n",
       "    </tr>\n",
       "    <tr>\n",
       "      <th>dairy eggs</th>\n",
       "      <td>2026653</td>\n",
       "      <td>1838082</td>\n",
       "      <td>1534012</td>\n",
       "    </tr>\n",
       "    <tr>\n",
       "      <th>deli</th>\n",
       "      <td>394560</td>\n",
       "      <td>359502</td>\n",
       "      <td>297187</td>\n",
       "    </tr>\n",
       "    <tr>\n",
       "      <th>dry goods pasta</th>\n",
       "      <td>326074</td>\n",
       "      <td>295202</td>\n",
       "      <td>245351</td>\n",
       "    </tr>\n",
       "    <tr>\n",
       "      <th>frozen</th>\n",
       "      <td>838211</td>\n",
       "      <td>767609</td>\n",
       "      <td>628923</td>\n",
       "    </tr>\n",
       "    <tr>\n",
       "      <th>household</th>\n",
       "      <td>277665</td>\n",
       "      <td>254139</td>\n",
       "      <td>206862</td>\n",
       "    </tr>\n",
       "    <tr>\n",
       "      <th>international</th>\n",
       "      <td>101564</td>\n",
       "      <td>91030</td>\n",
       "      <td>76659</td>\n",
       "    </tr>\n",
       "    <tr>\n",
       "      <th>meat seafood</th>\n",
       "      <td>265496</td>\n",
       "      <td>244361</td>\n",
       "      <td>199070</td>\n",
       "    </tr>\n",
       "    <tr>\n",
       "      <th>missing</th>\n",
       "      <td>25794</td>\n",
       "      <td>23319</td>\n",
       "      <td>20032</td>\n",
       "    </tr>\n",
       "    <tr>\n",
       "      <th>other</th>\n",
       "      <td>13629</td>\n",
       "      <td>12251</td>\n",
       "      <td>10411</td>\n",
       "    </tr>\n",
       "    <tr>\n",
       "      <th>pantry</th>\n",
       "      <td>704415</td>\n",
       "      <td>641837</td>\n",
       "      <td>529117</td>\n",
       "    </tr>\n",
       "    <tr>\n",
       "      <th>personal care</th>\n",
       "      <td>170582</td>\n",
       "      <td>151869</td>\n",
       "      <td>125121</td>\n",
       "    </tr>\n",
       "    <tr>\n",
       "      <th>pets</th>\n",
       "      <td>36598</td>\n",
       "      <td>33393</td>\n",
       "      <td>27725</td>\n",
       "    </tr>\n",
       "    <tr>\n",
       "      <th>produce</th>\n",
       "      <td>3570047</td>\n",
       "      <td>3240599</td>\n",
       "      <td>2668645</td>\n",
       "    </tr>\n",
       "    <tr>\n",
       "      <th>snacks</th>\n",
       "      <td>1086095</td>\n",
       "      <td>982320</td>\n",
       "      <td>819135</td>\n",
       "    </tr>\n",
       "  </tbody>\n",
       "</table>\n",
       "</div>"
      ],
      "text/plain": [
       "age_group        Middle-Aged Adult  Old Adult  Young Adult\n",
       "department                                                \n",
       "alcohol                      58105      50664        44927\n",
       "babies                      163485     142912       117405\n",
       "bakery                      440526     400020       331882\n",
       "beverages                  1014176     923708       750239\n",
       "breakfast                   263525     238897       200611\n",
       "bulk                         12843      11803         9927\n",
       "canned goods                401142     363738       303178\n",
       "dairy eggs                 2026653    1838082      1534012\n",
       "deli                        394560     359502       297187\n",
       "dry goods pasta             326074     295202       245351\n",
       "frozen                      838211     767609       628923\n",
       "household                   277665     254139       206862\n",
       "international               101564      91030        76659\n",
       "meat seafood                265496     244361       199070\n",
       "missing                      25794      23319        20032\n",
       "other                        13629      12251        10411\n",
       "pantry                      704415     641837       529117\n",
       "personal care               170582     151869       125121\n",
       "pets                         36598      33393        27725\n",
       "produce                    3570047    3240599      2668645\n",
       "snacks                     1086095     982320       819135"
      ]
     },
     "execution_count": 36,
     "metadata": {},
     "output_type": "execute_result"
    }
   ],
   "source": [
    "# Compare 'department' with 'age_group'\n",
    "department_age = pd.crosstab(df_all['department'], df_all['age_group'], dropna = False)\n",
    "department_age"
   ]
  },
  {
   "cell_type": "code",
   "execution_count": 37,
   "id": "118dd339",
   "metadata": {},
   "outputs": [
    {
     "data": {
      "image/png": "[encoded data removed]",
      "text/plain": [
       "<Figure size 640x480 with 1 Axes>"
      ]
     },
     "metadata": {},
     "output_type": "display_data"
    }
   ],
   "source": [
    "# Create a stacked bar chart for 'departments_age'\n",
    "bar4 = department_age.plot(kind = 'bar', stacked = True)"
   ]
  },
  {
   "cell_type": "markdown",
   "id": "578e852a",
   "metadata": {},
   "source": [
    "> The Produce department has registered the highest sale across all age groups followed by Dairy/Eggs, Snacks and Beverages departments respectively. Most customers who purchase from the Dairy/Eggs and Produce departments are middle-aged adults follwed by old adults and then young adults. In addition, most customers who purchase from the Beverages department are middle-aged adults  followed by young adults and then old adults."
   ]
  },
  {
   "cell_type": "code",
   "execution_count": 38,
   "id": "b01f1a42",
   "metadata": {},
   "outputs": [],
   "source": [
    "# Export chart\n",
    "bar4.figure.savefig(os.path.join(path, '04 Analysis','Visualizations', 'bar_department_vs_age.png'))"
   ]
  },
  {
   "cell_type": "markdown",
   "id": "42665587",
   "metadata": {},
   "source": [
    "### 5. Income profiling of customer database"
   ]
  },
  {
   "cell_type": "code",
   "execution_count": 39,
   "id": "eaa9f00a",
   "metadata": {},
   "outputs": [
    {
     "data": {
      "text/plain": [
       "count    3.240486e+07\n",
       "mean     9.943773e+04\n",
       "std      4.305727e+04\n",
       "min      2.590300e+04\n",
       "25%      6.700400e+04\n",
       "50%      9.661800e+04\n",
       "75%      1.279120e+05\n",
       "max      5.939010e+05\n",
       "Name: income, dtype: float64"
      ]
     },
     "execution_count": 39,
     "metadata": {},
     "output_type": "execute_result"
    }
   ],
   "source": [
    "# Descriptive statistics of 'income'\n",
    "df_all['income'].describe()"
   ]
  },
  {
   "cell_type": "code",
   "execution_count": 72,
   "id": "92bb0948",
   "metadata": {},
   "outputs": [],
   "source": [
    "# Create an 'income_group'\n",
    "df_all.loc[df_all['income'] <= 90000, 'income_group'] = 'Lower Class'\n",
    "df_all.loc[(df_all['income'] > 90000) & (df_all['income'] < 200000), 'income_group'] = 'Middle Class'\n",
    "df_all.loc[df_all['income'] >= 200000 , 'income_group'] = 'Upper Class'"
   ]
  },
  {
   "cell_type": "code",
   "execution_count": 73,
   "id": "5b2a500a",
   "metadata": {},
   "outputs": [
    {
     "data": {
      "text/plain": [
       "Middle Class    18334789\n",
       "Lower Class     13811627\n",
       "Upper Class       258443\n",
       "Name: income_group, dtype: int64"
      ]
     },
     "execution_count": 73,
     "metadata": {},
     "output_type": "execute_result"
    }
   ],
   "source": [
    "# Checking 'income_group' column\n",
    "df_all['income_group'].value_counts(dropna = False)"
   ]
  },
  {
   "cell_type": "code",
   "execution_count": 74,
   "id": "70357750",
   "metadata": {},
   "outputs": [
    {
     "data": {
      "image/png": "[encoded data removed]",
      "text/plain": [
       "<Figure size 640x480 with 1 Axes>"
      ]
     },
     "metadata": {},
     "output_type": "display_data"
    }
   ],
   "source": [
    "# Create a bar chart for 'income_group'\n",
    "bar5 = df_all['income_group'].value_counts().plot.bar()"
   ]
  },
  {
   "cell_type": "markdown",
   "id": "f00d22ee",
   "metadata": {},
   "source": [
    "> Majority of customers are in the in middle class followed by the lower class and then the upper class."
   ]
  },
  {
   "cell_type": "code",
   "execution_count": 75,
   "id": "4cbdf7c5",
   "metadata": {},
   "outputs": [],
   "source": [
    "# Export chart\n",
    "bar5.figure.savefig(os.path.join(path, '04 Analysis','Visualizations', 'bar_income_group.png'))"
   ]
  },
  {
   "cell_type": "code",
   "execution_count": 76,
   "id": "aa3e7790",
   "metadata": {},
   "outputs": [
    {
     "data": {
      "text/html": [
       "<div>\n",
       "<style scoped>\n",
       "    .dataframe tbody tr th:only-of-type {\n",
       "        vertical-align: middle;\n",
       "    }\n",
       "\n",
       "    .dataframe tbody tr th {\n",
       "        vertical-align: top;\n",
       "    }\n",
       "\n",
       "    .dataframe thead tr th {\n",
       "        text-align: left;\n",
       "    }\n",
       "\n",
       "    .dataframe thead tr:last-of-type th {\n",
       "        text-align: right;\n",
       "    }\n",
       "</style>\n",
       "<table border=\"1\" class=\"dataframe\">\n",
       "  <thead>\n",
       "    <tr>\n",
       "      <th></th>\n",
       "      <th colspan=\"3\" halign=\"left\">days_since_prior_order</th>\n",
       "    </tr>\n",
       "    <tr>\n",
       "      <th></th>\n",
       "      <th>mean</th>\n",
       "      <th>min</th>\n",
       "      <th>max</th>\n",
       "    </tr>\n",
       "    <tr>\n",
       "      <th>income_group</th>\n",
       "      <th></th>\n",
       "      <th></th>\n",
       "      <th></th>\n",
       "    </tr>\n",
       "  </thead>\n",
       "  <tbody>\n",
       "    <tr>\n",
       "      <th>Lower Class</th>\n",
       "      <td>11.191077</td>\n",
       "      <td>0.0</td>\n",
       "      <td>30.0</td>\n",
       "    </tr>\n",
       "    <tr>\n",
       "      <th>Middle Class</th>\n",
       "      <td>11.051707</td>\n",
       "      <td>0.0</td>\n",
       "      <td>30.0</td>\n",
       "    </tr>\n",
       "    <tr>\n",
       "      <th>Upper Class</th>\n",
       "      <td>10.199644</td>\n",
       "      <td>0.0</td>\n",
       "      <td>30.0</td>\n",
       "    </tr>\n",
       "  </tbody>\n",
       "</table>\n",
       "</div>"
      ],
      "text/plain": [
       "             days_since_prior_order           \n",
       "                               mean  min   max\n",
       "income_group                                  \n",
       "Lower Class               11.191077  0.0  30.0\n",
       "Middle Class              11.051707  0.0  30.0\n",
       "Upper Class               10.199644  0.0  30.0"
      ]
     },
     "execution_count": 76,
     "metadata": {},
     "output_type": "execute_result"
    }
   ],
   "source": [
    "# Aggregate for 'income_group' useage frequency\n",
    "df_all.groupby('income_group').agg({'days_since_prior_order':['mean', 'min','max']})"
   ]
  },
  {
   "cell_type": "code",
   "execution_count": 77,
   "id": "9c1e4675",
   "metadata": {},
   "outputs": [
    {
     "data": {
      "text/html": [
       "<div>\n",
       "<style scoped>\n",
       "    .dataframe tbody tr th:only-of-type {\n",
       "        vertical-align: middle;\n",
       "    }\n",
       "\n",
       "    .dataframe tbody tr th {\n",
       "        vertical-align: top;\n",
       "    }\n",
       "\n",
       "    .dataframe thead tr th {\n",
       "        text-align: left;\n",
       "    }\n",
       "\n",
       "    .dataframe thead tr:last-of-type th {\n",
       "        text-align: right;\n",
       "    }\n",
       "</style>\n",
       "<table border=\"1\" class=\"dataframe\">\n",
       "  <thead>\n",
       "    <tr>\n",
       "      <th></th>\n",
       "      <th colspan=\"3\" halign=\"left\">prices</th>\n",
       "    </tr>\n",
       "    <tr>\n",
       "      <th></th>\n",
       "      <th>mean</th>\n",
       "      <th>min</th>\n",
       "      <th>max</th>\n",
       "    </tr>\n",
       "    <tr>\n",
       "      <th>income_group</th>\n",
       "      <th></th>\n",
       "      <th></th>\n",
       "      <th></th>\n",
       "    </tr>\n",
       "  </thead>\n",
       "  <tbody>\n",
       "    <tr>\n",
       "      <th>Lower Class</th>\n",
       "      <td>7.642973</td>\n",
       "      <td>1.0</td>\n",
       "      <td>99999.0</td>\n",
       "    </tr>\n",
       "    <tr>\n",
       "      <th>Middle Class</th>\n",
       "      <td>11.685070</td>\n",
       "      <td>1.0</td>\n",
       "      <td>99999.0</td>\n",
       "    </tr>\n",
       "    <tr>\n",
       "      <th>Upper Class</th>\n",
       "      <td>264.709601</td>\n",
       "      <td>1.0</td>\n",
       "      <td>99999.0</td>\n",
       "    </tr>\n",
       "  </tbody>\n",
       "</table>\n",
       "</div>"
      ],
      "text/plain": [
       "                  prices              \n",
       "                    mean  min      max\n",
       "income_group                          \n",
       "Lower Class     7.642973  1.0  99999.0\n",
       "Middle Class   11.685070  1.0  99999.0\n",
       "Upper Class   264.709601  1.0  99999.0"
      ]
     },
     "execution_count": 77,
     "metadata": {},
     "output_type": "execute_result"
    }
   ],
   "source": [
    "# Aggregate for 'income_group' expenditure \n",
    "df_all.groupby('income_group').agg({'prices':['mean', 'min','max']})"
   ]
  },
  {
   "cell_type": "code",
   "execution_count": 78,
   "id": "415feaa6",
   "metadata": {},
   "outputs": [
    {
     "data": {
      "text/html": [
       "<div>\n",
       "<style scoped>\n",
       "    .dataframe tbody tr th:only-of-type {\n",
       "        vertical-align: middle;\n",
       "    }\n",
       "\n",
       "    .dataframe tbody tr th {\n",
       "        vertical-align: top;\n",
       "    }\n",
       "\n",
       "    .dataframe thead th {\n",
       "        text-align: right;\n",
       "    }\n",
       "</style>\n",
       "<table border=\"1\" class=\"dataframe\">\n",
       "  <thead>\n",
       "    <tr style=\"text-align: right;\">\n",
       "      <th>income_group</th>\n",
       "      <th>Lower Class</th>\n",
       "      <th>Middle Class</th>\n",
       "      <th>Upper Class</th>\n",
       "    </tr>\n",
       "    <tr>\n",
       "      <th>Region</th>\n",
       "      <th></th>\n",
       "      <th></th>\n",
       "      <th></th>\n",
       "    </tr>\n",
       "  </thead>\n",
       "  <tbody>\n",
       "    <tr>\n",
       "      <th>Midwest</th>\n",
       "      <td>3207611</td>\n",
       "      <td>4324417</td>\n",
       "      <td>65297</td>\n",
       "    </tr>\n",
       "    <tr>\n",
       "      <th>Northeast</th>\n",
       "      <td>2413656</td>\n",
       "      <td>3267953</td>\n",
       "      <td>41127</td>\n",
       "    </tr>\n",
       "    <tr>\n",
       "      <th>South</th>\n",
       "      <td>4652034</td>\n",
       "      <td>6055005</td>\n",
       "      <td>84846</td>\n",
       "    </tr>\n",
       "    <tr>\n",
       "      <th>West</th>\n",
       "      <td>3538326</td>\n",
       "      <td>4687414</td>\n",
       "      <td>67173</td>\n",
       "    </tr>\n",
       "  </tbody>\n",
       "</table>\n",
       "</div>"
      ],
      "text/plain": [
       "income_group  Lower Class  Middle Class  Upper Class\n",
       "Region                                              \n",
       "Midwest           3207611       4324417        65297\n",
       "Northeast         2413656       3267953        41127\n",
       "South             4652034       6055005        84846\n",
       "West              3538326       4687414        67173"
      ]
     },
     "execution_count": 78,
     "metadata": {},
     "output_type": "execute_result"
    }
   ],
   "source": [
    "# Compare 'region' with 'income_group'\n",
    "region_income = pd.crosstab(df_all['Region'], df_all['income_group'], dropna = False)\n",
    "region_income"
   ]
  },
  {
   "cell_type": "code",
   "execution_count": 79,
   "id": "fe244d30",
   "metadata": {},
   "outputs": [
    {
     "data": {
      "image/png": "[encoded data removed]",
      "text/plain": [
       "<Figure size 640x480 with 1 Axes>"
      ]
     },
     "metadata": {},
     "output_type": "display_data"
    }
   ],
   "source": [
    "# Create a stacked bar chart for 'region_income'\n",
    "bar6 = region_income.plot(kind = 'bar', stacked = True)"
   ]
  },
  {
   "cell_type": "markdown",
   "id": "2576a7f5",
   "metadata": {},
   "source": [
    "> Most of the customers come from Southern states followed by the West, Midwest and then Northeast. In addtion, the lower and middle class are majority of the customer base in all four regions."
   ]
  },
  {
   "cell_type": "code",
   "execution_count": 80,
   "id": "a5302bbb",
   "metadata": {},
   "outputs": [],
   "source": [
    "# Export chart\n",
    "bar6.figure.savefig(os.path.join(path, '04 Analysis','Visualizations', 'bar_region_vs_income.png'))"
   ]
  },
  {
   "cell_type": "code",
   "execution_count": 81,
   "id": "d9473da8",
   "metadata": {},
   "outputs": [
    {
     "data": {
      "text/html": [
       "<div>\n",
       "<style scoped>\n",
       "    .dataframe tbody tr th:only-of-type {\n",
       "        vertical-align: middle;\n",
       "    }\n",
       "\n",
       "    .dataframe tbody tr th {\n",
       "        vertical-align: top;\n",
       "    }\n",
       "\n",
       "    .dataframe thead th {\n",
       "        text-align: right;\n",
       "    }\n",
       "</style>\n",
       "<table border=\"1\" class=\"dataframe\">\n",
       "  <thead>\n",
       "    <tr style=\"text-align: right;\">\n",
       "      <th>income_group</th>\n",
       "      <th>Lower Class</th>\n",
       "      <th>Middle Class</th>\n",
       "      <th>Upper Class</th>\n",
       "    </tr>\n",
       "    <tr>\n",
       "      <th>loyalty_flag</th>\n",
       "      <th></th>\n",
       "      <th></th>\n",
       "      <th></th>\n",
       "    </tr>\n",
       "  </thead>\n",
       "  <tbody>\n",
       "    <tr>\n",
       "      <th>Loyal customer</th>\n",
       "      <td>4333644</td>\n",
       "      <td>5850982</td>\n",
       "      <td>99467</td>\n",
       "    </tr>\n",
       "    <tr>\n",
       "      <th>New customer</th>\n",
       "      <td>2804318</td>\n",
       "      <td>3413853</td>\n",
       "      <td>25819</td>\n",
       "    </tr>\n",
       "    <tr>\n",
       "      <th>Regular customer</th>\n",
       "      <td>6673665</td>\n",
       "      <td>9069954</td>\n",
       "      <td>133157</td>\n",
       "    </tr>\n",
       "  </tbody>\n",
       "</table>\n",
       "</div>"
      ],
      "text/plain": [
       "income_group      Lower Class  Middle Class  Upper Class\n",
       "loyalty_flag                                            \n",
       "Loyal customer        4333644       5850982        99467\n",
       "New customer          2804318       3413853        25819\n",
       "Regular customer      6673665       9069954       133157"
      ]
     },
     "execution_count": 81,
     "metadata": {},
     "output_type": "execute_result"
    }
   ],
   "source": [
    "# Compare 'loyalty_flag' with 'income_group'\n",
    "loyalty_income = pd.crosstab(df_all['loyalty_flag'], df_all['income_group'], dropna = False)\n",
    "loyalty_income"
   ]
  },
  {
   "cell_type": "code",
   "execution_count": 82,
   "id": "c51a9f88",
   "metadata": {},
   "outputs": [
    {
     "data": {
      "image/png": "[encoded data removed]",
      "text/plain": [
       "<Figure size 640x480 with 1 Axes>"
      ]
     },
     "metadata": {},
     "output_type": "display_data"
    }
   ],
   "source": [
    "# Create a stacked bar chart for 'loyalty_income'\n",
    "bar7 = loyalty_income.plot(kind = 'bar', stacked = True)"
   ]
  },
  {
   "cell_type": "code",
   "execution_count": 83,
   "id": "248b6d90",
   "metadata": {},
   "outputs": [],
   "source": [
    "# Export chart\n",
    "bar7.figure.savefig(os.path.join(path, '04 Analysis','Visualizations', 'bar_loyalty_vs_income.png'))"
   ]
  },
  {
   "cell_type": "markdown",
   "id": "e844fcf2",
   "metadata": {},
   "source": [
    "### 6. Family status profiling of customer database"
   ]
  },
  {
   "cell_type": "code",
   "execution_count": 84,
   "id": "df9585ae",
   "metadata": {},
   "outputs": [
    {
     "data": {
      "text/plain": [
       "count    3.240486e+07\n",
       "mean     1.501896e+00\n",
       "std      1.118865e+00\n",
       "min      0.000000e+00\n",
       "25%      1.000000e+00\n",
       "50%      2.000000e+00\n",
       "75%      3.000000e+00\n",
       "max      3.000000e+00\n",
       "Name: num_dependants, dtype: float64"
      ]
     },
     "execution_count": 84,
     "metadata": {},
     "output_type": "execute_result"
    }
   ],
   "source": [
    "# Descriptive statistics of 'num_dependants'\n",
    "df_all['num_dependants'].describe()"
   ]
  },
  {
   "cell_type": "code",
   "execution_count": 85,
   "id": "5d1b3caf",
   "metadata": {},
   "outputs": [],
   "source": [
    "# Create an 'family_status_group'\n",
    "df_all.loc[df_all['num_dependants'] == 0, 'family_status_group'] = 'Single Family Household'\n",
    "df_all.loc[(df_all['num_dependants'] > 0) & (df_all['num_dependants'] <= 2), 'family_status_group'] = 'Small Family Household'\n",
    "df_all.loc[df_all['num_dependants'] > 2, 'family_status_group'] = 'Large Family Household'"
   ]
  },
  {
   "cell_type": "code",
   "execution_count": 86,
   "id": "40c8c07b",
   "metadata": {},
   "outputs": [
    {
     "data": {
      "text/plain": [
       "Small Family Household     16172247\n",
       "Large Family Household      8135109\n",
       "Single Family Household     8097503\n",
       "Name: family_status_group, dtype: int64"
      ]
     },
     "execution_count": 86,
     "metadata": {},
     "output_type": "execute_result"
    }
   ],
   "source": [
    "# Checking 'family_status_group' column\n",
    "df_all['family_status_group'].value_counts(dropna = False)"
   ]
  },
  {
   "cell_type": "code",
   "execution_count": 87,
   "id": "d60bff97",
   "metadata": {
    "scrolled": false
   },
   "outputs": [
    {
     "data": {
      "image/png": "[encoded data removed]",
      "text/plain": [
       "<Figure size 640x480 with 1 Axes>"
      ]
     },
     "metadata": {},
     "output_type": "display_data"
    }
   ],
   "source": [
    "# Create a bar chart for 'family_status_group'\n",
    "bar8 = df_all['family_status_group'].value_counts().plot.bar()"
   ]
  },
  {
   "cell_type": "markdown",
   "id": "e7deea63",
   "metadata": {},
   "source": [
    "> Most of the customers are small family household with 1 or 2 dependants."
   ]
  },
  {
   "cell_type": "code",
   "execution_count": 88,
   "id": "aa7a819d",
   "metadata": {},
   "outputs": [],
   "source": [
    "# Export chart\n",
    "bar8.figure.savefig(os.path.join(path, '04 Analysis','Visualizations', 'bar_family_status_group.png'))"
   ]
  },
  {
   "cell_type": "code",
   "execution_count": 89,
   "id": "f46ffebb",
   "metadata": {},
   "outputs": [
    {
     "data": {
      "text/html": [
       "<div>\n",
       "<style scoped>\n",
       "    .dataframe tbody tr th:only-of-type {\n",
       "        vertical-align: middle;\n",
       "    }\n",
       "\n",
       "    .dataframe tbody tr th {\n",
       "        vertical-align: top;\n",
       "    }\n",
       "\n",
       "    .dataframe thead tr th {\n",
       "        text-align: left;\n",
       "    }\n",
       "\n",
       "    .dataframe thead tr:last-of-type th {\n",
       "        text-align: right;\n",
       "    }\n",
       "</style>\n",
       "<table border=\"1\" class=\"dataframe\">\n",
       "  <thead>\n",
       "    <tr>\n",
       "      <th></th>\n",
       "      <th colspan=\"3\" halign=\"left\">days_since_prior_order</th>\n",
       "    </tr>\n",
       "    <tr>\n",
       "      <th></th>\n",
       "      <th>mean</th>\n",
       "      <th>min</th>\n",
       "      <th>max</th>\n",
       "    </tr>\n",
       "    <tr>\n",
       "      <th>family_status_group</th>\n",
       "      <th></th>\n",
       "      <th></th>\n",
       "      <th></th>\n",
       "    </tr>\n",
       "  </thead>\n",
       "  <tbody>\n",
       "    <tr>\n",
       "      <th>Large Family Household</th>\n",
       "      <td>11.109714</td>\n",
       "      <td>0.0</td>\n",
       "      <td>30.0</td>\n",
       "    </tr>\n",
       "    <tr>\n",
       "      <th>Single Family Household</th>\n",
       "      <td>11.080805</td>\n",
       "      <td>0.0</td>\n",
       "      <td>30.0</td>\n",
       "    </tr>\n",
       "    <tr>\n",
       "      <th>Small Family Household</th>\n",
       "      <td>11.112901</td>\n",
       "      <td>0.0</td>\n",
       "      <td>30.0</td>\n",
       "    </tr>\n",
       "  </tbody>\n",
       "</table>\n",
       "</div>"
      ],
      "text/plain": [
       "                        days_since_prior_order           \n",
       "                                          mean  min   max\n",
       "family_status_group                                      \n",
       "Large Family Household               11.109714  0.0  30.0\n",
       "Single Family Household              11.080805  0.0  30.0\n",
       "Small Family Household               11.112901  0.0  30.0"
      ]
     },
     "execution_count": 89,
     "metadata": {},
     "output_type": "execute_result"
    }
   ],
   "source": [
    "# Aggregate for 'family_status_group' useage frequency\n",
    "df_all.groupby('family_status_group').agg({'days_since_prior_order':['mean', 'min','max']})"
   ]
  },
  {
   "cell_type": "code",
   "execution_count": 90,
   "id": "0b0f3553",
   "metadata": {},
   "outputs": [
    {
     "data": {
      "text/html": [
       "<div>\n",
       "<style scoped>\n",
       "    .dataframe tbody tr th:only-of-type {\n",
       "        vertical-align: middle;\n",
       "    }\n",
       "\n",
       "    .dataframe tbody tr th {\n",
       "        vertical-align: top;\n",
       "    }\n",
       "\n",
       "    .dataframe thead tr th {\n",
       "        text-align: left;\n",
       "    }\n",
       "\n",
       "    .dataframe thead tr:last-of-type th {\n",
       "        text-align: right;\n",
       "    }\n",
       "</style>\n",
       "<table border=\"1\" class=\"dataframe\">\n",
       "  <thead>\n",
       "    <tr>\n",
       "      <th></th>\n",
       "      <th colspan=\"3\" halign=\"left\">prices</th>\n",
       "    </tr>\n",
       "    <tr>\n",
       "      <th></th>\n",
       "      <th>mean</th>\n",
       "      <th>min</th>\n",
       "      <th>max</th>\n",
       "    </tr>\n",
       "    <tr>\n",
       "      <th>family_status_group</th>\n",
       "      <th></th>\n",
       "      <th></th>\n",
       "      <th></th>\n",
       "    </tr>\n",
       "  </thead>\n",
       "  <tbody>\n",
       "    <tr>\n",
       "      <th>Large Family Household</th>\n",
       "      <td>11.793264</td>\n",
       "      <td>1.0</td>\n",
       "      <td>99999.0</td>\n",
       "    </tr>\n",
       "    <tr>\n",
       "      <th>Single Family Household</th>\n",
       "      <td>12.129243</td>\n",
       "      <td>1.0</td>\n",
       "      <td>99999.0</td>\n",
       "    </tr>\n",
       "    <tr>\n",
       "      <th>Small Family Household</th>\n",
       "      <td>11.999659</td>\n",
       "      <td>1.0</td>\n",
       "      <td>99999.0</td>\n",
       "    </tr>\n",
       "  </tbody>\n",
       "</table>\n",
       "</div>"
      ],
      "text/plain": [
       "                            prices              \n",
       "                              mean  min      max\n",
       "family_status_group                             \n",
       "Large Family Household   11.793264  1.0  99999.0\n",
       "Single Family Household  12.129243  1.0  99999.0\n",
       "Small Family Household   11.999659  1.0  99999.0"
      ]
     },
     "execution_count": 90,
     "metadata": {},
     "output_type": "execute_result"
    }
   ],
   "source": [
    "# Aggregate for 'family_status_group' expenditure \n",
    "df_all.groupby('family_status_group').agg({'prices':['mean', 'min','max']})"
   ]
  },
  {
   "cell_type": "code",
   "execution_count": 91,
   "id": "b52e59d3",
   "metadata": {},
   "outputs": [
    {
     "data": {
      "text/html": [
       "<div>\n",
       "<style scoped>\n",
       "    .dataframe tbody tr th:only-of-type {\n",
       "        vertical-align: middle;\n",
       "    }\n",
       "\n",
       "    .dataframe tbody tr th {\n",
       "        vertical-align: top;\n",
       "    }\n",
       "\n",
       "    .dataframe thead th {\n",
       "        text-align: right;\n",
       "    }\n",
       "</style>\n",
       "<table border=\"1\" class=\"dataframe\">\n",
       "  <thead>\n",
       "    <tr style=\"text-align: right;\">\n",
       "      <th>family_status_group</th>\n",
       "      <th>Large Family Household</th>\n",
       "      <th>Single Family Household</th>\n",
       "      <th>Small Family Household</th>\n",
       "    </tr>\n",
       "    <tr>\n",
       "      <th>Region</th>\n",
       "      <th></th>\n",
       "      <th></th>\n",
       "      <th></th>\n",
       "    </tr>\n",
       "  </thead>\n",
       "  <tbody>\n",
       "    <tr>\n",
       "      <th>Midwest</th>\n",
       "      <td>1874667</td>\n",
       "      <td>1905200</td>\n",
       "      <td>3817458</td>\n",
       "    </tr>\n",
       "    <tr>\n",
       "      <th>Northeast</th>\n",
       "      <td>1445080</td>\n",
       "      <td>1418301</td>\n",
       "      <td>2859355</td>\n",
       "    </tr>\n",
       "    <tr>\n",
       "      <th>South</th>\n",
       "      <td>2706538</td>\n",
       "      <td>2701659</td>\n",
       "      <td>5383688</td>\n",
       "    </tr>\n",
       "    <tr>\n",
       "      <th>West</th>\n",
       "      <td>2108824</td>\n",
       "      <td>2072343</td>\n",
       "      <td>4111746</td>\n",
       "    </tr>\n",
       "  </tbody>\n",
       "</table>\n",
       "</div>"
      ],
      "text/plain": [
       "family_status_group  Large Family Household  Single Family Household  \\\n",
       "Region                                                                 \n",
       "Midwest                             1874667                  1905200   \n",
       "Northeast                           1445080                  1418301   \n",
       "South                               2706538                  2701659   \n",
       "West                                2108824                  2072343   \n",
       "\n",
       "family_status_group  Small Family Household  \n",
       "Region                                       \n",
       "Midwest                             3817458  \n",
       "Northeast                           2859355  \n",
       "South                               5383688  \n",
       "West                                4111746  "
      ]
     },
     "execution_count": 91,
     "metadata": {},
     "output_type": "execute_result"
    }
   ],
   "source": [
    "# Compare 'region' with 'family_status_group'\n",
    "region_family_status = pd.crosstab(df_all['Region'], df_all['family_status_group'], dropna = False)\n",
    "region_family_status"
   ]
  },
  {
   "cell_type": "code",
   "execution_count": 92,
   "id": "efa52700",
   "metadata": {},
   "outputs": [
    {
     "data": {
      "image/png": "[encoded data removed]",
      "text/plain": [
       "<Figure size 640x480 with 1 Axes>"
      ]
     },
     "metadata": {},
     "output_type": "display_data"
    }
   ],
   "source": [
    "# Create a stacked bar chart for 'region_family_status'\n",
    "bar9 = region_family_status.plot(kind = 'bar', stacked = True)"
   ]
  },
  {
   "cell_type": "markdown",
   "id": "df01c394",
   "metadata": {},
   "source": [
    "> Most customers in all four regions are small family households followed by single family households and then large family households."
   ]
  },
  {
   "cell_type": "code",
   "execution_count": 93,
   "id": "6b629742",
   "metadata": {},
   "outputs": [],
   "source": [
    "# Export chart\n",
    "bar9.figure.savefig(os.path.join(path, '04 Analysis','Visualizations', 'bar_region_vs_family_status.png'))"
   ]
  },
  {
   "cell_type": "code",
   "execution_count": 94,
   "id": "cfed8299",
   "metadata": {},
   "outputs": [
    {
     "data": {
      "text/html": [
       "<div>\n",
       "<style scoped>\n",
       "    .dataframe tbody tr th:only-of-type {\n",
       "        vertical-align: middle;\n",
       "    }\n",
       "\n",
       "    .dataframe tbody tr th {\n",
       "        vertical-align: top;\n",
       "    }\n",
       "\n",
       "    .dataframe thead th {\n",
       "        text-align: right;\n",
       "    }\n",
       "</style>\n",
       "<table border=\"1\" class=\"dataframe\">\n",
       "  <thead>\n",
       "    <tr style=\"text-align: right;\">\n",
       "      <th>family_status_group</th>\n",
       "      <th>Large Family Household</th>\n",
       "      <th>Single Family Household</th>\n",
       "      <th>Small Family Household</th>\n",
       "    </tr>\n",
       "    <tr>\n",
       "      <th>loyalty_flag</th>\n",
       "      <th></th>\n",
       "      <th></th>\n",
       "      <th></th>\n",
       "    </tr>\n",
       "  </thead>\n",
       "  <tbody>\n",
       "    <tr>\n",
       "      <th>Loyal customer</th>\n",
       "      <td>2582679</td>\n",
       "      <td>2588844</td>\n",
       "      <td>5112570</td>\n",
       "    </tr>\n",
       "    <tr>\n",
       "      <th>New customer</th>\n",
       "      <td>1559095</td>\n",
       "      <td>1559087</td>\n",
       "      <td>3125808</td>\n",
       "    </tr>\n",
       "    <tr>\n",
       "      <th>Regular customer</th>\n",
       "      <td>3993335</td>\n",
       "      <td>3949572</td>\n",
       "      <td>7933869</td>\n",
       "    </tr>\n",
       "  </tbody>\n",
       "</table>\n",
       "</div>"
      ],
      "text/plain": [
       "family_status_group  Large Family Household  Single Family Household  \\\n",
       "loyalty_flag                                                           \n",
       "Loyal customer                      2582679                  2588844   \n",
       "New customer                        1559095                  1559087   \n",
       "Regular customer                    3993335                  3949572   \n",
       "\n",
       "family_status_group  Small Family Household  \n",
       "loyalty_flag                                 \n",
       "Loyal customer                      5112570  \n",
       "New customer                        3125808  \n",
       "Regular customer                    7933869  "
      ]
     },
     "execution_count": 94,
     "metadata": {},
     "output_type": "execute_result"
    }
   ],
   "source": [
    "# Compare 'loyalty_flag' with 'family_status_group'\n",
    "loyalty_family_status = pd.crosstab(df_all['loyalty_flag'], df_all['family_status_group'], dropna = False)\n",
    "loyalty_family_status "
   ]
  },
  {
   "cell_type": "code",
   "execution_count": 95,
   "id": "bea6a370",
   "metadata": {},
   "outputs": [
    {
     "data": {
      "image/png": "[encoded data removed]",
      "text/plain": [
       "<Figure size 640x480 with 1 Axes>"
      ]
     },
     "metadata": {},
     "output_type": "display_data"
    }
   ],
   "source": [
    "# Create a stacked bar chart for 'loyalty_family_status'\n",
    "bar10 = loyalty_family_status.plot(kind = 'bar', stacked = True)"
   ]
  },
  {
   "cell_type": "markdown",
   "id": "b8467a79",
   "metadata": {},
   "source": [
    "> Most of the customers are regular customers. From the regular customers, majority of the households are small family, having 1-2 dependants, followed by single family households. Loyal customers are comprised mostly of small family households as well."
   ]
  },
  {
   "cell_type": "code",
   "execution_count": 96,
   "id": "d52b7540",
   "metadata": {},
   "outputs": [],
   "source": [
    "# Export chart\n",
    "bar10.figure.savefig(os.path.join(path, '04 Analysis','Visualizations', 'bar_loyalty_vs_family_status.png'))"
   ]
  },
  {
   "cell_type": "code",
   "execution_count": 97,
   "id": "f6999b18",
   "metadata": {},
   "outputs": [
    {
     "data": {
      "text/html": [
       "<div>\n",
       "<style scoped>\n",
       "    .dataframe tbody tr th:only-of-type {\n",
       "        vertical-align: middle;\n",
       "    }\n",
       "\n",
       "    .dataframe tbody tr th {\n",
       "        vertical-align: top;\n",
       "    }\n",
       "\n",
       "    .dataframe thead th {\n",
       "        text-align: right;\n",
       "    }\n",
       "</style>\n",
       "<table border=\"1\" class=\"dataframe\">\n",
       "  <thead>\n",
       "    <tr style=\"text-align: right;\">\n",
       "      <th>family_status_group</th>\n",
       "      <th>Large Family Household</th>\n",
       "      <th>Single Family Household</th>\n",
       "      <th>Small Family Household</th>\n",
       "    </tr>\n",
       "    <tr>\n",
       "      <th>department</th>\n",
       "      <th></th>\n",
       "      <th></th>\n",
       "      <th></th>\n",
       "    </tr>\n",
       "  </thead>\n",
       "  <tbody>\n",
       "    <tr>\n",
       "      <th>alcohol</th>\n",
       "      <td>39736</td>\n",
       "      <td>39118</td>\n",
       "      <td>74842</td>\n",
       "    </tr>\n",
       "    <tr>\n",
       "      <th>babies</th>\n",
       "      <td>106094</td>\n",
       "      <td>106494</td>\n",
       "      <td>211214</td>\n",
       "    </tr>\n",
       "    <tr>\n",
       "      <th>bakery</th>\n",
       "      <td>292859</td>\n",
       "      <td>294405</td>\n",
       "      <td>585164</td>\n",
       "    </tr>\n",
       "    <tr>\n",
       "      <th>beverages</th>\n",
       "      <td>670063</td>\n",
       "      <td>674442</td>\n",
       "      <td>1343618</td>\n",
       "    </tr>\n",
       "    <tr>\n",
       "      <th>breakfast</th>\n",
       "      <td>175466</td>\n",
       "      <td>174577</td>\n",
       "      <td>352990</td>\n",
       "    </tr>\n",
       "    <tr>\n",
       "      <th>bulk</th>\n",
       "      <td>8685</td>\n",
       "      <td>8278</td>\n",
       "      <td>17610</td>\n",
       "    </tr>\n",
       "    <tr>\n",
       "      <th>canned goods</th>\n",
       "      <td>269614</td>\n",
       "      <td>264838</td>\n",
       "      <td>533606</td>\n",
       "    </tr>\n",
       "    <tr>\n",
       "      <th>dairy eggs</th>\n",
       "      <td>1351908</td>\n",
       "      <td>1349362</td>\n",
       "      <td>2697477</td>\n",
       "    </tr>\n",
       "    <tr>\n",
       "      <th>deli</th>\n",
       "      <td>264530</td>\n",
       "      <td>265145</td>\n",
       "      <td>521574</td>\n",
       "    </tr>\n",
       "    <tr>\n",
       "      <th>dry goods pasta</th>\n",
       "      <td>219726</td>\n",
       "      <td>215262</td>\n",
       "      <td>431639</td>\n",
       "    </tr>\n",
       "    <tr>\n",
       "      <th>frozen</th>\n",
       "      <td>561027</td>\n",
       "      <td>557160</td>\n",
       "      <td>1116556</td>\n",
       "    </tr>\n",
       "    <tr>\n",
       "      <th>household</th>\n",
       "      <td>186241</td>\n",
       "      <td>180773</td>\n",
       "      <td>371652</td>\n",
       "    </tr>\n",
       "    <tr>\n",
       "      <th>international</th>\n",
       "      <td>66848</td>\n",
       "      <td>67713</td>\n",
       "      <td>134692</td>\n",
       "    </tr>\n",
       "    <tr>\n",
       "      <th>meat seafood</th>\n",
       "      <td>180192</td>\n",
       "      <td>174084</td>\n",
       "      <td>354651</td>\n",
       "    </tr>\n",
       "    <tr>\n",
       "      <th>missing</th>\n",
       "      <td>17450</td>\n",
       "      <td>17088</td>\n",
       "      <td>34607</td>\n",
       "    </tr>\n",
       "    <tr>\n",
       "      <th>other</th>\n",
       "      <td>8860</td>\n",
       "      <td>9175</td>\n",
       "      <td>18256</td>\n",
       "    </tr>\n",
       "    <tr>\n",
       "      <th>pantry</th>\n",
       "      <td>469604</td>\n",
       "      <td>466757</td>\n",
       "      <td>939008</td>\n",
       "    </tr>\n",
       "    <tr>\n",
       "      <th>personal care</th>\n",
       "      <td>112185</td>\n",
       "      <td>112006</td>\n",
       "      <td>223381</td>\n",
       "    </tr>\n",
       "    <tr>\n",
       "      <th>pets</th>\n",
       "      <td>24349</td>\n",
       "      <td>24583</td>\n",
       "      <td>48784</td>\n",
       "    </tr>\n",
       "    <tr>\n",
       "      <th>produce</th>\n",
       "      <td>2387866</td>\n",
       "      <td>2375445</td>\n",
       "      <td>4715980</td>\n",
       "    </tr>\n",
       "    <tr>\n",
       "      <th>snacks</th>\n",
       "      <td>721806</td>\n",
       "      <td>720798</td>\n",
       "      <td>1444946</td>\n",
       "    </tr>\n",
       "  </tbody>\n",
       "</table>\n",
       "</div>"
      ],
      "text/plain": [
       "family_status_group  Large Family Household  Single Family Household  \\\n",
       "department                                                             \n",
       "alcohol                               39736                    39118   \n",
       "babies                               106094                   106494   \n",
       "bakery                               292859                   294405   \n",
       "beverages                            670063                   674442   \n",
       "breakfast                            175466                   174577   \n",
       "bulk                                   8685                     8278   \n",
       "canned goods                         269614                   264838   \n",
       "dairy eggs                          1351908                  1349362   \n",
       "deli                                 264530                   265145   \n",
       "dry goods pasta                      219726                   215262   \n",
       "frozen                               561027                   557160   \n",
       "household                            186241                   180773   \n",
       "international                         66848                    67713   \n",
       "meat seafood                         180192                   174084   \n",
       "missing                               17450                    17088   \n",
       "other                                  8860                     9175   \n",
       "pantry                               469604                   466757   \n",
       "personal care                        112185                   112006   \n",
       "pets                                  24349                    24583   \n",
       "produce                             2387866                  2375445   \n",
       "snacks                               721806                   720798   \n",
       "\n",
       "family_status_group  Small Family Household  \n",
       "department                                   \n",
       "alcohol                               74842  \n",
       "babies                               211214  \n",
       "bakery                               585164  \n",
       "beverages                           1343618  \n",
       "breakfast                            352990  \n",
       "bulk                                  17610  \n",
       "canned goods                         533606  \n",
       "dairy eggs                          2697477  \n",
       "deli                                 521574  \n",
       "dry goods pasta                      431639  \n",
       "frozen                              1116556  \n",
       "household                            371652  \n",
       "international                        134692  \n",
       "meat seafood                         354651  \n",
       "missing                               34607  \n",
       "other                                 18256  \n",
       "pantry                               939008  \n",
       "personal care                        223381  \n",
       "pets                                  48784  \n",
       "produce                             4715980  \n",
       "snacks                              1444946  "
      ]
     },
     "execution_count": 97,
     "metadata": {},
     "output_type": "execute_result"
    }
   ],
   "source": [
    "# Compare 'department' with 'family_status_group'\n",
    "department_family_status = pd.crosstab(df_all['department'], df_all['family_status_group'], dropna = False)\n",
    "department_family_status"
   ]
  },
  {
   "cell_type": "code",
   "execution_count": 98,
   "id": "fed5afd8",
   "metadata": {},
   "outputs": [
    {
     "data": {
      "image/png": "[encoded data removed]",
      "text/plain": [
       "<Figure size 640x480 with 1 Axes>"
      ]
     },
     "metadata": {},
     "output_type": "display_data"
    }
   ],
   "source": [
    "# Create a stacked bar chart for 'department_family_status'\n",
    "bar11 = department_family_status.plot(kind = 'bar', stacked = True)"
   ]
  },
  {
   "cell_type": "markdown",
   "id": "55b31e86",
   "metadata": {},
   "source": [
    "> In the Produce, Dairy/Eggs and Snacks departments, customer family status majority is small family, then large family followed by single family. The Bulk, Pets and Alchohol have the lowest customer numbers."
   ]
  },
  {
   "cell_type": "code",
   "execution_count": 99,
   "id": "4646bcb4",
   "metadata": {},
   "outputs": [],
   "source": [
    "# Export chart\n",
    "bar11.figure.savefig(os.path.join(path, '04 Analysis','Visualizations', 'bar_department_vs_family_status.png'))"
   ]
  },
  {
   "cell_type": "code",
   "execution_count": 100,
   "id": "ec195197",
   "metadata": {},
   "outputs": [
    {
     "data": {
      "text/html": [
       "<div>\n",
       "<style scoped>\n",
       "    .dataframe tbody tr th:only-of-type {\n",
       "        vertical-align: middle;\n",
       "    }\n",
       "\n",
       "    .dataframe tbody tr th {\n",
       "        vertical-align: top;\n",
       "    }\n",
       "\n",
       "    .dataframe thead th {\n",
       "        text-align: right;\n",
       "    }\n",
       "</style>\n",
       "<table border=\"1\" class=\"dataframe\">\n",
       "  <thead>\n",
       "    <tr style=\"text-align: right;\">\n",
       "      <th>family_status_group</th>\n",
       "      <th>Large Family Household</th>\n",
       "      <th>Single Family Household</th>\n",
       "      <th>Small Family Household</th>\n",
       "    </tr>\n",
       "    <tr>\n",
       "      <th>orders_day_of_week</th>\n",
       "      <th></th>\n",
       "      <th></th>\n",
       "      <th></th>\n",
       "    </tr>\n",
       "  </thead>\n",
       "  <tbody>\n",
       "    <tr>\n",
       "      <th>0</th>\n",
       "      <td>1564100</td>\n",
       "      <td>1550309</td>\n",
       "      <td>3089773</td>\n",
       "    </tr>\n",
       "    <tr>\n",
       "      <th>1</th>\n",
       "      <td>1426184</td>\n",
       "      <td>1424767</td>\n",
       "      <td>2809279</td>\n",
       "    </tr>\n",
       "    <tr>\n",
       "      <th>2</th>\n",
       "      <td>1066795</td>\n",
       "      <td>1049129</td>\n",
       "      <td>2097906</td>\n",
       "    </tr>\n",
       "    <tr>\n",
       "      <th>3</th>\n",
       "      <td>962026</td>\n",
       "      <td>959353</td>\n",
       "      <td>1919155</td>\n",
       "    </tr>\n",
       "    <tr>\n",
       "      <th>4</th>\n",
       "      <td>943931</td>\n",
       "      <td>945205</td>\n",
       "      <td>1894666</td>\n",
       "    </tr>\n",
       "    <tr>\n",
       "      <th>5</th>\n",
       "      <td>1044235</td>\n",
       "      <td>1057145</td>\n",
       "      <td>2104411</td>\n",
       "    </tr>\n",
       "    <tr>\n",
       "      <th>6</th>\n",
       "      <td>1127838</td>\n",
       "      <td>1111595</td>\n",
       "      <td>2257057</td>\n",
       "    </tr>\n",
       "  </tbody>\n",
       "</table>\n",
       "</div>"
      ],
      "text/plain": [
       "family_status_group  Large Family Household  Single Family Household  \\\n",
       "orders_day_of_week                                                     \n",
       "0                                   1564100                  1550309   \n",
       "1                                   1426184                  1424767   \n",
       "2                                   1066795                  1049129   \n",
       "3                                    962026                   959353   \n",
       "4                                    943931                   945205   \n",
       "5                                   1044235                  1057145   \n",
       "6                                   1127838                  1111595   \n",
       "\n",
       "family_status_group  Small Family Household  \n",
       "orders_day_of_week                           \n",
       "0                                   3089773  \n",
       "1                                   2809279  \n",
       "2                                   2097906  \n",
       "3                                   1919155  \n",
       "4                                   1894666  \n",
       "5                                   2104411  \n",
       "6                                   2257057  "
      ]
     },
     "execution_count": 100,
     "metadata": {},
     "output_type": "execute_result"
    }
   ],
   "source": [
    "# Compare 'orders_day_of_week' with 'family_status_group'\n",
    "orders_dow_family_status = pd.crosstab(df_all['orders_day_of_week'], df_all['family_status_group'], dropna = False)\n",
    "orders_dow_family_status"
   ]
  },
  {
   "cell_type": "code",
   "execution_count": 101,
   "id": "2603fdaf",
   "metadata": {},
   "outputs": [
    {
     "data": {
      "image/png": "[encoded data removed]",
      "text/plain": [
       "<Figure size 640x480 with 1 Axes>"
      ]
     },
     "metadata": {},
     "output_type": "display_data"
    }
   ],
   "source": [
    "# Create a stacked bar chart for 'orders_dow_family_status'\n",
    "bar12 = orders_dow_family_status.plot(kind = 'bar', stacked = True)"
   ]
  },
  {
   "cell_type": "markdown",
   "id": "e6918605",
   "metadata": {},
   "source": [
    "> All househoulds order the post on Saturdays followed by Sundays."
   ]
  },
  {
   "cell_type": "code",
   "execution_count": 102,
   "id": "e4671be1",
   "metadata": {},
   "outputs": [],
   "source": [
    "# Export chart\n",
    "bar12.figure.savefig(os.path.join(path, '04 Analysis','Visualizations', 'bar_orders_day_of_week_vs_family_status.png'))"
   ]
  },
  {
   "cell_type": "code",
   "execution_count": 103,
   "id": "617a4d16",
   "metadata": {},
   "outputs": [
    {
     "data": {
      "text/html": [
       "<div>\n",
       "<style scoped>\n",
       "    .dataframe tbody tr th:only-of-type {\n",
       "        vertical-align: middle;\n",
       "    }\n",
       "\n",
       "    .dataframe tbody tr th {\n",
       "        vertical-align: top;\n",
       "    }\n",
       "\n",
       "    .dataframe thead th {\n",
       "        text-align: right;\n",
       "    }\n",
       "</style>\n",
       "<table border=\"1\" class=\"dataframe\">\n",
       "  <thead>\n",
       "    <tr style=\"text-align: right;\">\n",
       "      <th>family_status_group</th>\n",
       "      <th>Large Family Household</th>\n",
       "      <th>Single Family Household</th>\n",
       "      <th>Small Family Household</th>\n",
       "    </tr>\n",
       "    <tr>\n",
       "      <th>time_of_order</th>\n",
       "      <th></th>\n",
       "      <th></th>\n",
       "      <th></th>\n",
       "    </tr>\n",
       "  </thead>\n",
       "  <tbody>\n",
       "    <tr>\n",
       "      <th>0</th>\n",
       "      <td>54508</td>\n",
       "      <td>54172</td>\n",
       "      <td>110089</td>\n",
       "    </tr>\n",
       "    <tr>\n",
       "      <th>1</th>\n",
       "      <td>29478</td>\n",
       "      <td>28342</td>\n",
       "      <td>57880</td>\n",
       "    </tr>\n",
       "    <tr>\n",
       "      <th>2</th>\n",
       "      <td>16901</td>\n",
       "      <td>17569</td>\n",
       "      <td>34905</td>\n",
       "    </tr>\n",
       "    <tr>\n",
       "      <th>3</th>\n",
       "      <td>13161</td>\n",
       "      <td>13015</td>\n",
       "      <td>25105</td>\n",
       "    </tr>\n",
       "    <tr>\n",
       "      <th>4</th>\n",
       "      <td>13451</td>\n",
       "      <td>12739</td>\n",
       "      <td>27052</td>\n",
       "    </tr>\n",
       "    <tr>\n",
       "      <th>5</th>\n",
       "      <td>22408</td>\n",
       "      <td>22052</td>\n",
       "      <td>43501</td>\n",
       "    </tr>\n",
       "    <tr>\n",
       "      <th>6</th>\n",
       "      <td>72630</td>\n",
       "      <td>73491</td>\n",
       "      <td>144372</td>\n",
       "    </tr>\n",
       "    <tr>\n",
       "      <th>7</th>\n",
       "      <td>222116</td>\n",
       "      <td>226971</td>\n",
       "      <td>441967</td>\n",
       "    </tr>\n",
       "    <tr>\n",
       "      <th>8</th>\n",
       "      <td>433114</td>\n",
       "      <td>431499</td>\n",
       "      <td>853505</td>\n",
       "    </tr>\n",
       "    <tr>\n",
       "      <th>9</th>\n",
       "      <td>607357</td>\n",
       "      <td>613030</td>\n",
       "      <td>1233816</td>\n",
       "    </tr>\n",
       "    <tr>\n",
       "      <th>10</th>\n",
       "      <td>695229</td>\n",
       "      <td>684033</td>\n",
       "      <td>1382498</td>\n",
       "    </tr>\n",
       "    <tr>\n",
       "      <th>11</th>\n",
       "      <td>686908</td>\n",
       "      <td>681662</td>\n",
       "      <td>1367570</td>\n",
       "    </tr>\n",
       "    <tr>\n",
       "      <th>12</th>\n",
       "      <td>650131</td>\n",
       "      <td>649896</td>\n",
       "      <td>1318505</td>\n",
       "    </tr>\n",
       "    <tr>\n",
       "      <th>13</th>\n",
       "      <td>665686</td>\n",
       "      <td>661063</td>\n",
       "      <td>1334205</td>\n",
       "    </tr>\n",
       "    <tr>\n",
       "      <th>14</th>\n",
       "      <td>678461</td>\n",
       "      <td>669554</td>\n",
       "      <td>1341121</td>\n",
       "    </tr>\n",
       "    <tr>\n",
       "      <th>15</th>\n",
       "      <td>670075</td>\n",
       "      <td>667498</td>\n",
       "      <td>1324571</td>\n",
       "    </tr>\n",
       "    <tr>\n",
       "      <th>16</th>\n",
       "      <td>637665</td>\n",
       "      <td>640690</td>\n",
       "      <td>1256847</td>\n",
       "    </tr>\n",
       "    <tr>\n",
       "      <th>17</th>\n",
       "      <td>527114</td>\n",
       "      <td>522328</td>\n",
       "      <td>1038212</td>\n",
       "    </tr>\n",
       "    <tr>\n",
       "      <th>18</th>\n",
       "      <td>416834</td>\n",
       "      <td>404181</td>\n",
       "      <td>815487</td>\n",
       "    </tr>\n",
       "    <tr>\n",
       "      <th>19</th>\n",
       "      <td>317961</td>\n",
       "      <td>315457</td>\n",
       "      <td>624887</td>\n",
       "    </tr>\n",
       "    <tr>\n",
       "      <th>20</th>\n",
       "      <td>247624</td>\n",
       "      <td>245814</td>\n",
       "      <td>482718</td>\n",
       "    </tr>\n",
       "    <tr>\n",
       "      <th>21</th>\n",
       "      <td>198907</td>\n",
       "      <td>198817</td>\n",
       "      <td>397913</td>\n",
       "    </tr>\n",
       "    <tr>\n",
       "      <th>22</th>\n",
       "      <td>159662</td>\n",
       "      <td>160491</td>\n",
       "      <td>314072</td>\n",
       "    </tr>\n",
       "    <tr>\n",
       "      <th>23</th>\n",
       "      <td>97728</td>\n",
       "      <td>103139</td>\n",
       "      <td>201449</td>\n",
       "    </tr>\n",
       "  </tbody>\n",
       "</table>\n",
       "</div>"
      ],
      "text/plain": [
       "family_status_group  Large Family Household  Single Family Household  \\\n",
       "time_of_order                                                          \n",
       "0                                     54508                    54172   \n",
       "1                                     29478                    28342   \n",
       "2                                     16901                    17569   \n",
       "3                                     13161                    13015   \n",
       "4                                     13451                    12739   \n",
       "5                                     22408                    22052   \n",
       "6                                     72630                    73491   \n",
       "7                                    222116                   226971   \n",
       "8                                    433114                   431499   \n",
       "9                                    607357                   613030   \n",
       "10                                   695229                   684033   \n",
       "11                                   686908                   681662   \n",
       "12                                   650131                   649896   \n",
       "13                                   665686                   661063   \n",
       "14                                   678461                   669554   \n",
       "15                                   670075                   667498   \n",
       "16                                   637665                   640690   \n",
       "17                                   527114                   522328   \n",
       "18                                   416834                   404181   \n",
       "19                                   317961                   315457   \n",
       "20                                   247624                   245814   \n",
       "21                                   198907                   198817   \n",
       "22                                   159662                   160491   \n",
       "23                                    97728                   103139   \n",
       "\n",
       "family_status_group  Small Family Household  \n",
       "time_of_order                                \n",
       "0                                    110089  \n",
       "1                                     57880  \n",
       "2                                     34905  \n",
       "3                                     25105  \n",
       "4                                     27052  \n",
       "5                                     43501  \n",
       "6                                    144372  \n",
       "7                                    441967  \n",
       "8                                    853505  \n",
       "9                                   1233816  \n",
       "10                                  1382498  \n",
       "11                                  1367570  \n",
       "12                                  1318505  \n",
       "13                                  1334205  \n",
       "14                                  1341121  \n",
       "15                                  1324571  \n",
       "16                                  1256847  \n",
       "17                                  1038212  \n",
       "18                                   815487  \n",
       "19                                   624887  \n",
       "20                                   482718  \n",
       "21                                   397913  \n",
       "22                                   314072  \n",
       "23                                   201449  "
      ]
     },
     "execution_count": 103,
     "metadata": {},
     "output_type": "execute_result"
    }
   ],
   "source": [
    "# Compare 'time_of_order' with 'family_status_group'\n",
    "too_family_status = pd.crosstab(df_all['time_of_order'], df_all['family_status_group'], dropna = False)\n",
    "too_family_status"
   ]
  },
  {
   "cell_type": "code",
   "execution_count": 104,
   "id": "631a7ea0",
   "metadata": {
    "scrolled": false
   },
   "outputs": [
    {
     "data": {
      "image/png": "[encoded data removed]",
      "text/plain": [
       "<Figure size 640x480 with 1 Axes>"
      ]
     },
     "metadata": {},
     "output_type": "display_data"
    }
   ],
   "source": [
    "# Create a stacked bar chart for 'too_family_status'\n",
    "bar13 = too_family_status.plot(kind = 'bar', stacked = True)"
   ]
  },
  {
   "cell_type": "markdown",
   "id": "71342245",
   "metadata": {},
   "source": [
    "> The most orders come between 10 to 16 o'clock regardless of family status. Starting at 7am onwards the orders start to increase and remain high until 15 o'clock (3pm) when they are start to decline. The lowest amount of orders takes place during the early morning of 0 to 6 o'clock."
   ]
  },
  {
   "cell_type": "code",
   "execution_count": 105,
   "id": "de0175f1",
   "metadata": {},
   "outputs": [],
   "source": [
    "# Export chart\n",
    "bar13.figure.savefig(os.path.join(path, '04 Analysis','Visualizations', 'bar_time_of_order_vs_family_status.png'))"
   ]
  },
  {
   "cell_type": "markdown",
   "id": "976b8008",
   "metadata": {},
   "source": [
    "### 7. Product profiling of customer database: Baby Status"
   ]
  },
  {
   "cell_type": "code",
   "execution_count": 106,
   "id": "ec052403",
   "metadata": {},
   "outputs": [],
   "source": [
    "# Create 'baby_status' column\n",
    "df_all['baby_status'] = [1 if x == 'babies' else 0 for x in df_all['department']]"
   ]
  },
  {
   "cell_type": "code",
   "execution_count": 107,
   "id": "f07bf9d5",
   "metadata": {},
   "outputs": [],
   "source": [
    "# Grouping and aggregatng userid by 'baby_status'\n",
    "df_all['baby_status'] = df_all.groupby(['user_id']) ['baby_status'].transform(np.max)"
   ]
  },
  {
   "cell_type": "code",
   "execution_count": 108,
   "id": "0fff2ce7",
   "metadata": {},
   "outputs": [
    {
     "data": {
      "text/plain": [
       "0    22431550\n",
       "1     9973309\n",
       "Name: baby_status, dtype: int64"
      ]
     },
     "execution_count": 108,
     "metadata": {},
     "output_type": "execute_result"
    }
   ],
   "source": [
    "# Checking column 'baby_status'\n",
    "df_all['baby_status'].value_counts(dropna = False)"
   ]
  },
  {
   "cell_type": "code",
   "execution_count": 110,
   "id": "b962e9a7",
   "metadata": {},
   "outputs": [
    {
     "data": {
      "image/png": "[encoded data removed]",
      "text/plain": [
       "<Figure size 640x480 with 1 Axes>"
      ]
     },
     "metadata": {},
     "output_type": "display_data"
    }
   ],
   "source": [
    "# Create a pie chart for the 'baby_status' column\n",
    "pie1 = df_all['baby_status'].value_counts().plot.pie(labels = ['No', 'Yes'], autopct = ('%1.f%%'), colors = ['red','orange'])"
   ]
  },
  {
   "cell_type": "markdown",
   "id": "bfced83f",
   "metadata": {},
   "source": [
    "> 31% of the products sold are baby products."
   ]
  },
  {
   "cell_type": "code",
   "execution_count": 111,
   "id": "fd663f8b",
   "metadata": {},
   "outputs": [],
   "source": [
    "# Export chart\n",
    "pie1.figure.savefig(os.path.join(path, '04 Analysis','Visualizations', 'pie_baby_status.png'))"
   ]
  },
  {
   "cell_type": "code",
   "execution_count": 112,
   "id": "b48ef95b",
   "metadata": {},
   "outputs": [
    {
     "data": {
      "text/html": [
       "<div>\n",
       "<style scoped>\n",
       "    .dataframe tbody tr th:only-of-type {\n",
       "        vertical-align: middle;\n",
       "    }\n",
       "\n",
       "    .dataframe tbody tr th {\n",
       "        vertical-align: top;\n",
       "    }\n",
       "\n",
       "    .dataframe thead tr th {\n",
       "        text-align: left;\n",
       "    }\n",
       "\n",
       "    .dataframe thead tr:last-of-type th {\n",
       "        text-align: right;\n",
       "    }\n",
       "</style>\n",
       "<table border=\"1\" class=\"dataframe\">\n",
       "  <thead>\n",
       "    <tr>\n",
       "      <th></th>\n",
       "      <th colspan=\"3\" halign=\"left\">days_since_prior_order</th>\n",
       "    </tr>\n",
       "    <tr>\n",
       "      <th></th>\n",
       "      <th>mean</th>\n",
       "      <th>min</th>\n",
       "      <th>max</th>\n",
       "    </tr>\n",
       "    <tr>\n",
       "      <th>baby_status</th>\n",
       "      <th></th>\n",
       "      <th></th>\n",
       "      <th></th>\n",
       "    </tr>\n",
       "  </thead>\n",
       "  <tbody>\n",
       "    <tr>\n",
       "      <th>0</th>\n",
       "      <td>11.848432</td>\n",
       "      <td>0.0</td>\n",
       "      <td>30.0</td>\n",
       "    </tr>\n",
       "    <tr>\n",
       "      <th>1</th>\n",
       "      <td>9.479345</td>\n",
       "      <td>0.0</td>\n",
       "      <td>30.0</td>\n",
       "    </tr>\n",
       "  </tbody>\n",
       "</table>\n",
       "</div>"
      ],
      "text/plain": [
       "            days_since_prior_order           \n",
       "                              mean  min   max\n",
       "baby_status                                  \n",
       "0                        11.848432  0.0  30.0\n",
       "1                         9.479345  0.0  30.0"
      ]
     },
     "execution_count": 112,
     "metadata": {},
     "output_type": "execute_result"
    }
   ],
   "source": [
    "# Aggregate for 'baby_status' useage frequency\n",
    "df_all.groupby('baby_status').agg({'days_since_prior_order':['mean', 'min','max']})"
   ]
  },
  {
   "cell_type": "code",
   "execution_count": 113,
   "id": "7fa2594b",
   "metadata": {},
   "outputs": [
    {
     "data": {
      "text/html": [
       "<div>\n",
       "<style scoped>\n",
       "    .dataframe tbody tr th:only-of-type {\n",
       "        vertical-align: middle;\n",
       "    }\n",
       "\n",
       "    .dataframe tbody tr th {\n",
       "        vertical-align: top;\n",
       "    }\n",
       "\n",
       "    .dataframe thead tr th {\n",
       "        text-align: left;\n",
       "    }\n",
       "\n",
       "    .dataframe thead tr:last-of-type th {\n",
       "        text-align: right;\n",
       "    }\n",
       "</style>\n",
       "<table border=\"1\" class=\"dataframe\">\n",
       "  <thead>\n",
       "    <tr>\n",
       "      <th></th>\n",
       "      <th colspan=\"3\" halign=\"left\">prices</th>\n",
       "    </tr>\n",
       "    <tr>\n",
       "      <th></th>\n",
       "      <th>mean</th>\n",
       "      <th>min</th>\n",
       "      <th>max</th>\n",
       "    </tr>\n",
       "    <tr>\n",
       "      <th>baby_status</th>\n",
       "      <th></th>\n",
       "      <th></th>\n",
       "      <th></th>\n",
       "    </tr>\n",
       "  </thead>\n",
       "  <tbody>\n",
       "    <tr>\n",
       "      <th>0</th>\n",
       "      <td>12.515291</td>\n",
       "      <td>1.0</td>\n",
       "      <td>99999.0</td>\n",
       "    </tr>\n",
       "    <tr>\n",
       "      <th>1</th>\n",
       "      <td>10.776779</td>\n",
       "      <td>1.0</td>\n",
       "      <td>99999.0</td>\n",
       "    </tr>\n",
       "  </tbody>\n",
       "</table>\n",
       "</div>"
      ],
      "text/plain": [
       "                prices              \n",
       "                  mean  min      max\n",
       "baby_status                         \n",
       "0            12.515291  1.0  99999.0\n",
       "1            10.776779  1.0  99999.0"
      ]
     },
     "execution_count": 113,
     "metadata": {},
     "output_type": "execute_result"
    }
   ],
   "source": [
    "# Aggregate for 'baby_status' expenditure \n",
    "df_all.groupby('baby_status').agg({'prices':['mean', 'min','max']})"
   ]
  },
  {
   "cell_type": "markdown",
   "id": "9dc6909a",
   "metadata": {},
   "source": [
    "### 7. Product profiling of customer database: Pet Status"
   ]
  },
  {
   "cell_type": "code",
   "execution_count": 114,
   "id": "8aeaf0f0",
   "metadata": {},
   "outputs": [],
   "source": [
    "# Create 'pet_status' column\n",
    "df_all['pet_status'] = [1 if x == 'pets' else 0 for x in df_all['department']]"
   ]
  },
  {
   "cell_type": "code",
   "execution_count": 115,
   "id": "c85b5631",
   "metadata": {},
   "outputs": [],
   "source": [
    "# Grouping and aggregatng 'user_id' by 'pet_status'\n",
    "df_all['pet_status'] = df_all.groupby(['user_id']) ['pet_status'].transform(np.max)"
   ]
  },
  {
   "cell_type": "code",
   "execution_count": 116,
   "id": "51bbaaa5",
   "metadata": {},
   "outputs": [
    {
     "data": {
      "text/plain": [
       "0    28876718\n",
       "1     3528141\n",
       "Name: pet_status, dtype: int64"
      ]
     },
     "execution_count": 116,
     "metadata": {},
     "output_type": "execute_result"
    }
   ],
   "source": [
    "# Checking column 'pet_status'\n",
    "df_all['pet_status'].value_counts(dropna = False)"
   ]
  },
  {
   "cell_type": "code",
   "execution_count": 117,
   "id": "364f43ce",
   "metadata": {},
   "outputs": [
    {
     "data": {
      "image/png": "[encoded data removed]",
      "text/plain": [
       "<Figure size 640x480 with 1 Axes>"
      ]
     },
     "metadata": {},
     "output_type": "display_data"
    }
   ],
   "source": [
    "# Create a pie chart for the 'pet_status' column\n",
    "pie2 = df_all['pet_status'].value_counts().plot.pie(labels = ['No', 'Yes'], autopct = ('%1.f%%'), colors = ['red','orange'])"
   ]
  },
  {
   "cell_type": "markdown",
   "id": "5edf0878",
   "metadata": {},
   "source": [
    "> 11% of the products sold are pet products."
   ]
  },
  {
   "cell_type": "code",
   "execution_count": 118,
   "id": "5d0cfeee",
   "metadata": {},
   "outputs": [],
   "source": [
    "# Export chart\n",
    "pie2.figure.savefig(os.path.join(path, '04 Analysis','Visualizations', 'pie_pet_status.png'))"
   ]
  },
  {
   "cell_type": "code",
   "execution_count": 119,
   "id": "e1979740",
   "metadata": {},
   "outputs": [
    {
     "data": {
      "text/html": [
       "<div>\n",
       "<style scoped>\n",
       "    .dataframe tbody tr th:only-of-type {\n",
       "        vertical-align: middle;\n",
       "    }\n",
       "\n",
       "    .dataframe tbody tr th {\n",
       "        vertical-align: top;\n",
       "    }\n",
       "\n",
       "    .dataframe thead tr th {\n",
       "        text-align: left;\n",
       "    }\n",
       "\n",
       "    .dataframe thead tr:last-of-type th {\n",
       "        text-align: right;\n",
       "    }\n",
       "</style>\n",
       "<table border=\"1\" class=\"dataframe\">\n",
       "  <thead>\n",
       "    <tr>\n",
       "      <th></th>\n",
       "      <th colspan=\"3\" halign=\"left\">days_since_prior_order</th>\n",
       "    </tr>\n",
       "    <tr>\n",
       "      <th></th>\n",
       "      <th>mean</th>\n",
       "      <th>min</th>\n",
       "      <th>max</th>\n",
       "    </tr>\n",
       "    <tr>\n",
       "      <th>pet_status</th>\n",
       "      <th></th>\n",
       "      <th></th>\n",
       "      <th></th>\n",
       "    </tr>\n",
       "  </thead>\n",
       "  <tbody>\n",
       "    <tr>\n",
       "      <th>0</th>\n",
       "      <td>11.200417</td>\n",
       "      <td>0.0</td>\n",
       "      <td>30.0</td>\n",
       "    </tr>\n",
       "    <tr>\n",
       "      <th>1</th>\n",
       "      <td>10.327303</td>\n",
       "      <td>0.0</td>\n",
       "      <td>30.0</td>\n",
       "    </tr>\n",
       "  </tbody>\n",
       "</table>\n",
       "</div>"
      ],
      "text/plain": [
       "           days_since_prior_order           \n",
       "                             mean  min   max\n",
       "pet_status                                  \n",
       "0                       11.200417  0.0  30.0\n",
       "1                       10.327303  0.0  30.0"
      ]
     },
     "execution_count": 119,
     "metadata": {},
     "output_type": "execute_result"
    }
   ],
   "source": [
    "# Aggregate for 'pet_status' useage frequency\n",
    "df_all.groupby('pet_status').agg({'days_since_prior_order':['mean', 'min','max']})"
   ]
  },
  {
   "cell_type": "code",
   "execution_count": 120,
   "id": "3890fea4",
   "metadata": {},
   "outputs": [
    {
     "data": {
      "text/html": [
       "<div>\n",
       "<style scoped>\n",
       "    .dataframe tbody tr th:only-of-type {\n",
       "        vertical-align: middle;\n",
       "    }\n",
       "\n",
       "    .dataframe tbody tr th {\n",
       "        vertical-align: top;\n",
       "    }\n",
       "\n",
       "    .dataframe thead tr th {\n",
       "        text-align: left;\n",
       "    }\n",
       "\n",
       "    .dataframe thead tr:last-of-type th {\n",
       "        text-align: right;\n",
       "    }\n",
       "</style>\n",
       "<table border=\"1\" class=\"dataframe\">\n",
       "  <thead>\n",
       "    <tr>\n",
       "      <th></th>\n",
       "      <th colspan=\"3\" halign=\"left\">prices</th>\n",
       "    </tr>\n",
       "    <tr>\n",
       "      <th></th>\n",
       "      <th>mean</th>\n",
       "      <th>min</th>\n",
       "      <th>max</th>\n",
       "    </tr>\n",
       "    <tr>\n",
       "      <th>pet_status</th>\n",
       "      <th></th>\n",
       "      <th></th>\n",
       "      <th></th>\n",
       "    </tr>\n",
       "  </thead>\n",
       "  <tbody>\n",
       "    <tr>\n",
       "      <th>0</th>\n",
       "      <td>11.680857</td>\n",
       "      <td>1.0</td>\n",
       "      <td>99999.0</td>\n",
       "    </tr>\n",
       "    <tr>\n",
       "      <th>1</th>\n",
       "      <td>14.430461</td>\n",
       "      <td>1.0</td>\n",
       "      <td>99999.0</td>\n",
       "    </tr>\n",
       "  </tbody>\n",
       "</table>\n",
       "</div>"
      ],
      "text/plain": [
       "               prices              \n",
       "                 mean  min      max\n",
       "pet_status                         \n",
       "0           11.680857  1.0  99999.0\n",
       "1           14.430461  1.0  99999.0"
      ]
     },
     "execution_count": 120,
     "metadata": {},
     "output_type": "execute_result"
    }
   ],
   "source": [
    "# Aggregate for 'pet_status' expenditure \n",
    "df_all.groupby('pet_status').agg({'prices':['mean', 'min','max']})"
   ]
  },
  {
   "cell_type": "markdown",
   "id": "8d04502e",
   "metadata": {},
   "source": [
    "### 8. Other Analysis"
   ]
  },
  {
   "cell_type": "code",
   "execution_count": 121,
   "id": "753eeeb8",
   "metadata": {},
   "outputs": [
    {
     "data": {
      "text/html": [
       "<div>\n",
       "<style scoped>\n",
       "    .dataframe tbody tr th:only-of-type {\n",
       "        vertical-align: middle;\n",
       "    }\n",
       "\n",
       "    .dataframe tbody tr th {\n",
       "        vertical-align: top;\n",
       "    }\n",
       "\n",
       "    .dataframe thead th {\n",
       "        text-align: right;\n",
       "    }\n",
       "</style>\n",
       "<table border=\"1\" class=\"dataframe\">\n",
       "  <thead>\n",
       "    <tr style=\"text-align: right;\">\n",
       "      <th></th>\n",
       "      <th>price_range_loc</th>\n",
       "      <th>High-range product</th>\n",
       "      <th>Low-range product</th>\n",
       "      <th>Mid-range product</th>\n",
       "    </tr>\n",
       "    <tr>\n",
       "      <th>department_id</th>\n",
       "      <th>department</th>\n",
       "      <th></th>\n",
       "      <th></th>\n",
       "      <th></th>\n",
       "    </tr>\n",
       "  </thead>\n",
       "  <tbody>\n",
       "    <tr>\n",
       "      <th>1</th>\n",
       "      <th>frozen</th>\n",
       "      <td>0</td>\n",
       "      <td>681412</td>\n",
       "      <td>1553331</td>\n",
       "    </tr>\n",
       "    <tr>\n",
       "      <th>2</th>\n",
       "      <th>other</th>\n",
       "      <td>0</td>\n",
       "      <td>15972</td>\n",
       "      <td>20319</td>\n",
       "    </tr>\n",
       "    <tr>\n",
       "      <th>3</th>\n",
       "      <th>bakery</th>\n",
       "      <td>0</td>\n",
       "      <td>287938</td>\n",
       "      <td>884490</td>\n",
       "    </tr>\n",
       "    <tr>\n",
       "      <th>4</th>\n",
       "      <th>produce</th>\n",
       "      <td>0</td>\n",
       "      <td>2697883</td>\n",
       "      <td>6781408</td>\n",
       "    </tr>\n",
       "    <tr>\n",
       "      <th>5</th>\n",
       "      <th>alcohol</th>\n",
       "      <td>0</td>\n",
       "      <td>35243</td>\n",
       "      <td>118453</td>\n",
       "    </tr>\n",
       "    <tr>\n",
       "      <th>6</th>\n",
       "      <th>international</th>\n",
       "      <td>0</td>\n",
       "      <td>76974</td>\n",
       "      <td>192279</td>\n",
       "    </tr>\n",
       "    <tr>\n",
       "      <th>7</th>\n",
       "      <th>beverages</th>\n",
       "      <td>0</td>\n",
       "      <td>852974</td>\n",
       "      <td>1835149</td>\n",
       "    </tr>\n",
       "    <tr>\n",
       "      <th>8</th>\n",
       "      <th>pets</th>\n",
       "      <td>0</td>\n",
       "      <td>29551</td>\n",
       "      <td>68165</td>\n",
       "    </tr>\n",
       "    <tr>\n",
       "      <th>9</th>\n",
       "      <th>dry goods pasta</th>\n",
       "      <td>0</td>\n",
       "      <td>299327</td>\n",
       "      <td>567300</td>\n",
       "    </tr>\n",
       "    <tr>\n",
       "      <th>10</th>\n",
       "      <th>bulk</th>\n",
       "      <td>0</td>\n",
       "      <td>1221</td>\n",
       "      <td>33352</td>\n",
       "    </tr>\n",
       "    <tr>\n",
       "      <th>11</th>\n",
       "      <th>personal care</th>\n",
       "      <td>0</td>\n",
       "      <td>130864</td>\n",
       "      <td>316708</td>\n",
       "    </tr>\n",
       "    <tr>\n",
       "      <th>12</th>\n",
       "      <th>meat seafood</th>\n",
       "      <td>412323</td>\n",
       "      <td>0</td>\n",
       "      <td>296604</td>\n",
       "    </tr>\n",
       "    <tr>\n",
       "      <th>13</th>\n",
       "      <th>pantry</th>\n",
       "      <td>228</td>\n",
       "      <td>531864</td>\n",
       "      <td>1343277</td>\n",
       "    </tr>\n",
       "    <tr>\n",
       "      <th>14</th>\n",
       "      <th>breakfast</th>\n",
       "      <td>0</td>\n",
       "      <td>219333</td>\n",
       "      <td>483700</td>\n",
       "    </tr>\n",
       "    <tr>\n",
       "      <th>15</th>\n",
       "      <th>canned goods</th>\n",
       "      <td>0</td>\n",
       "      <td>298683</td>\n",
       "      <td>769375</td>\n",
       "    </tr>\n",
       "    <tr>\n",
       "      <th>16</th>\n",
       "      <th>dairy eggs</th>\n",
       "      <td>5127</td>\n",
       "      <td>1431016</td>\n",
       "      <td>3962604</td>\n",
       "    </tr>\n",
       "    <tr>\n",
       "      <th>17</th>\n",
       "      <th>household</th>\n",
       "      <td>0</td>\n",
       "      <td>258269</td>\n",
       "      <td>480397</td>\n",
       "    </tr>\n",
       "    <tr>\n",
       "      <th>18</th>\n",
       "      <th>babies</th>\n",
       "      <td>0</td>\n",
       "      <td>125317</td>\n",
       "      <td>298485</td>\n",
       "    </tr>\n",
       "    <tr>\n",
       "      <th>19</th>\n",
       "      <th>snacks</th>\n",
       "      <td>0</td>\n",
       "      <td>1819106</td>\n",
       "      <td>1068444</td>\n",
       "    </tr>\n",
       "    <tr>\n",
       "      <th>20</th>\n",
       "      <th>deli</th>\n",
       "      <td>0</td>\n",
       "      <td>313628</td>\n",
       "      <td>737621</td>\n",
       "    </tr>\n",
       "    <tr>\n",
       "      <th>21</th>\n",
       "      <th>missing</th>\n",
       "      <td>0</td>\n",
       "      <td>19746</td>\n",
       "      <td>49399</td>\n",
       "    </tr>\n",
       "  </tbody>\n",
       "</table>\n",
       "</div>"
      ],
      "text/plain": [
       "price_range_loc                High-range product  Low-range product  \\\n",
       "department_id department                                               \n",
       "1             frozen                            0             681412   \n",
       "2             other                             0              15972   \n",
       "3             bakery                            0             287938   \n",
       "4             produce                           0            2697883   \n",
       "5             alcohol                           0              35243   \n",
       "6             international                     0              76974   \n",
       "7             beverages                         0             852974   \n",
       "8             pets                              0              29551   \n",
       "9             dry goods pasta                   0             299327   \n",
       "10            bulk                              0               1221   \n",
       "11            personal care                     0             130864   \n",
       "12            meat seafood                 412323                  0   \n",
       "13            pantry                          228             531864   \n",
       "14            breakfast                         0             219333   \n",
       "15            canned goods                      0             298683   \n",
       "16            dairy eggs                     5127            1431016   \n",
       "17            household                         0             258269   \n",
       "18            babies                            0             125317   \n",
       "19            snacks                            0            1819106   \n",
       "20            deli                              0             313628   \n",
       "21            missing                           0              19746   \n",
       "\n",
       "price_range_loc                Mid-range product  \n",
       "department_id department                          \n",
       "1             frozen                     1553331  \n",
       "2             other                        20319  \n",
       "3             bakery                      884490  \n",
       "4             produce                    6781408  \n",
       "5             alcohol                     118453  \n",
       "6             international               192279  \n",
       "7             beverages                  1835149  \n",
       "8             pets                         68165  \n",
       "9             dry goods pasta             567300  \n",
       "10            bulk                         33352  \n",
       "11            personal care               316708  \n",
       "12            meat seafood                296604  \n",
       "13            pantry                     1343277  \n",
       "14            breakfast                   483700  \n",
       "15            canned goods                769375  \n",
       "16            dairy eggs                 3962604  \n",
       "17            household                   480397  \n",
       "18            babies                      298485  \n",
       "19            snacks                     1068444  \n",
       "20            deli                        737621  \n",
       "21            missing                      49399  "
      ]
     },
     "execution_count": 121,
     "metadata": {},
     "output_type": "execute_result"
    }
   ],
   "source": [
    "# Create table for 'department_id', 'department', 'price_range_loc' columns\n",
    "pd.crosstab([df_all['department_id'], df_all['department']], df_all['price_range_loc'])"
   ]
  },
  {
   "cell_type": "code",
   "execution_count": 122,
   "id": "583469bf",
   "metadata": {},
   "outputs": [
    {
     "data": {
      "text/html": [
       "<div>\n",
       "<style scoped>\n",
       "    .dataframe tbody tr th:only-of-type {\n",
       "        vertical-align: middle;\n",
       "    }\n",
       "\n",
       "    .dataframe tbody tr th {\n",
       "        vertical-align: top;\n",
       "    }\n",
       "\n",
       "    .dataframe thead tr th {\n",
       "        text-align: left;\n",
       "    }\n",
       "\n",
       "    .dataframe thead tr:last-of-type th {\n",
       "        text-align: right;\n",
       "    }\n",
       "</style>\n",
       "<table border=\"1\" class=\"dataframe\">\n",
       "  <thead>\n",
       "    <tr>\n",
       "      <th></th>\n",
       "      <th colspan=\"3\" halign=\"left\">reordered</th>\n",
       "    </tr>\n",
       "    <tr>\n",
       "      <th></th>\n",
       "      <th>mean</th>\n",
       "      <th>min</th>\n",
       "      <th>max</th>\n",
       "    </tr>\n",
       "    <tr>\n",
       "      <th>department</th>\n",
       "      <th></th>\n",
       "      <th></th>\n",
       "      <th></th>\n",
       "    </tr>\n",
       "  </thead>\n",
       "  <tbody>\n",
       "    <tr>\n",
       "      <th>alcohol</th>\n",
       "      <td>0.569924</td>\n",
       "      <td>0</td>\n",
       "      <td>1</td>\n",
       "    </tr>\n",
       "    <tr>\n",
       "      <th>babies</th>\n",
       "      <td>0.578971</td>\n",
       "      <td>0</td>\n",
       "      <td>1</td>\n",
       "    </tr>\n",
       "    <tr>\n",
       "      <th>bakery</th>\n",
       "      <td>0.627889</td>\n",
       "      <td>0</td>\n",
       "      <td>1</td>\n",
       "    </tr>\n",
       "    <tr>\n",
       "      <th>beverages</th>\n",
       "      <td>0.653461</td>\n",
       "      <td>0</td>\n",
       "      <td>1</td>\n",
       "    </tr>\n",
       "    <tr>\n",
       "      <th>breakfast</th>\n",
       "      <td>0.560550</td>\n",
       "      <td>0</td>\n",
       "      <td>1</td>\n",
       "    </tr>\n",
       "    <tr>\n",
       "      <th>bulk</th>\n",
       "      <td>0.577040</td>\n",
       "      <td>0</td>\n",
       "      <td>1</td>\n",
       "    </tr>\n",
       "    <tr>\n",
       "      <th>canned goods</th>\n",
       "      <td>0.457405</td>\n",
       "      <td>0</td>\n",
       "      <td>1</td>\n",
       "    </tr>\n",
       "    <tr>\n",
       "      <th>dairy eggs</th>\n",
       "      <td>0.669690</td>\n",
       "      <td>0</td>\n",
       "      <td>1</td>\n",
       "    </tr>\n",
       "    <tr>\n",
       "      <th>deli</th>\n",
       "      <td>0.607719</td>\n",
       "      <td>0</td>\n",
       "      <td>1</td>\n",
       "    </tr>\n",
       "    <tr>\n",
       "      <th>dry goods pasta</th>\n",
       "      <td>0.461076</td>\n",
       "      <td>0</td>\n",
       "      <td>1</td>\n",
       "    </tr>\n",
       "    <tr>\n",
       "      <th>frozen</th>\n",
       "      <td>0.541764</td>\n",
       "      <td>0</td>\n",
       "      <td>1</td>\n",
       "    </tr>\n",
       "    <tr>\n",
       "      <th>household</th>\n",
       "      <td>0.402178</td>\n",
       "      <td>0</td>\n",
       "      <td>1</td>\n",
       "    </tr>\n",
       "    <tr>\n",
       "      <th>international</th>\n",
       "      <td>0.369229</td>\n",
       "      <td>0</td>\n",
       "      <td>1</td>\n",
       "    </tr>\n",
       "    <tr>\n",
       "      <th>meat seafood</th>\n",
       "      <td>0.567678</td>\n",
       "      <td>0</td>\n",
       "      <td>1</td>\n",
       "    </tr>\n",
       "    <tr>\n",
       "      <th>missing</th>\n",
       "      <td>0.395849</td>\n",
       "      <td>0</td>\n",
       "      <td>1</td>\n",
       "    </tr>\n",
       "    <tr>\n",
       "      <th>other</th>\n",
       "      <td>0.407980</td>\n",
       "      <td>0</td>\n",
       "      <td>1</td>\n",
       "    </tr>\n",
       "    <tr>\n",
       "      <th>pantry</th>\n",
       "      <td>0.346722</td>\n",
       "      <td>0</td>\n",
       "      <td>1</td>\n",
       "    </tr>\n",
       "    <tr>\n",
       "      <th>personal care</th>\n",
       "      <td>0.321296</td>\n",
       "      <td>0</td>\n",
       "      <td>1</td>\n",
       "    </tr>\n",
       "    <tr>\n",
       "      <th>pets</th>\n",
       "      <td>0.601324</td>\n",
       "      <td>0</td>\n",
       "      <td>1</td>\n",
       "    </tr>\n",
       "    <tr>\n",
       "      <th>produce</th>\n",
       "      <td>0.649913</td>\n",
       "      <td>0</td>\n",
       "      <td>1</td>\n",
       "    </tr>\n",
       "    <tr>\n",
       "      <th>snacks</th>\n",
       "      <td>0.574180</td>\n",
       "      <td>0</td>\n",
       "      <td>1</td>\n",
       "    </tr>\n",
       "  </tbody>\n",
       "</table>\n",
       "</div>"
      ],
      "text/plain": [
       "                reordered        \n",
       "                     mean min max\n",
       "department                       \n",
       "alcohol          0.569924   0   1\n",
       "babies           0.578971   0   1\n",
       "bakery           0.627889   0   1\n",
       "beverages        0.653461   0   1\n",
       "breakfast        0.560550   0   1\n",
       "bulk             0.577040   0   1\n",
       "canned goods     0.457405   0   1\n",
       "dairy eggs       0.669690   0   1\n",
       "deli             0.607719   0   1\n",
       "dry goods pasta  0.461076   0   1\n",
       "frozen           0.541764   0   1\n",
       "household        0.402178   0   1\n",
       "international    0.369229   0   1\n",
       "meat seafood     0.567678   0   1\n",
       "missing          0.395849   0   1\n",
       "other            0.407980   0   1\n",
       "pantry           0.346722   0   1\n",
       "personal care    0.321296   0   1\n",
       "pets             0.601324   0   1\n",
       "produce          0.649913   0   1\n",
       "snacks           0.574180   0   1"
      ]
     },
     "execution_count": 122,
     "metadata": {},
     "output_type": "execute_result"
    }
   ],
   "source": [
    "# Aggregate for 'department' purchase frequency\n",
    "df_all.groupby('department').agg({'reordered':['mean','min', 'max']})"
   ]
  },
  {
   "cell_type": "code",
   "execution_count": 123,
   "id": "5c288000",
   "metadata": {},
   "outputs": [
    {
     "data": {
      "text/html": [
       "<div>\n",
       "<style scoped>\n",
       "    .dataframe tbody tr th:only-of-type {\n",
       "        vertical-align: middle;\n",
       "    }\n",
       "\n",
       "    .dataframe tbody tr th {\n",
       "        vertical-align: top;\n",
       "    }\n",
       "\n",
       "    .dataframe thead th {\n",
       "        text-align: right;\n",
       "    }\n",
       "</style>\n",
       "<table border=\"1\" class=\"dataframe\">\n",
       "  <thead>\n",
       "    <tr style=\"text-align: right;\">\n",
       "      <th>loyalty_flag</th>\n",
       "      <th>Loyal customer</th>\n",
       "      <th>New customer</th>\n",
       "      <th>Regular customer</th>\n",
       "    </tr>\n",
       "    <tr>\n",
       "      <th>department</th>\n",
       "      <th></th>\n",
       "      <th></th>\n",
       "      <th></th>\n",
       "    </tr>\n",
       "  </thead>\n",
       "  <tbody>\n",
       "    <tr>\n",
       "      <th>alcohol</th>\n",
       "      <td>38723</td>\n",
       "      <td>37698</td>\n",
       "      <td>77275</td>\n",
       "    </tr>\n",
       "    <tr>\n",
       "      <th>babies</th>\n",
       "      <td>167108</td>\n",
       "      <td>60118</td>\n",
       "      <td>196576</td>\n",
       "    </tr>\n",
       "    <tr>\n",
       "      <th>bakery</th>\n",
       "      <td>379873</td>\n",
       "      <td>223704</td>\n",
       "      <td>568851</td>\n",
       "    </tr>\n",
       "    <tr>\n",
       "      <th>beverages</th>\n",
       "      <td>855017</td>\n",
       "      <td>512871</td>\n",
       "      <td>1320235</td>\n",
       "    </tr>\n",
       "    <tr>\n",
       "      <th>breakfast</th>\n",
       "      <td>221577</td>\n",
       "      <td>138362</td>\n",
       "      <td>343094</td>\n",
       "    </tr>\n",
       "    <tr>\n",
       "      <th>bulk</th>\n",
       "      <td>13834</td>\n",
       "      <td>5271</td>\n",
       "      <td>15468</td>\n",
       "    </tr>\n",
       "    <tr>\n",
       "      <th>canned goods</th>\n",
       "      <td>294594</td>\n",
       "      <td>236180</td>\n",
       "      <td>537284</td>\n",
       "    </tr>\n",
       "    <tr>\n",
       "      <th>dairy eggs</th>\n",
       "      <td>1830707</td>\n",
       "      <td>971621</td>\n",
       "      <td>2596419</td>\n",
       "    </tr>\n",
       "    <tr>\n",
       "      <th>deli</th>\n",
       "      <td>324046</td>\n",
       "      <td>205750</td>\n",
       "      <td>521453</td>\n",
       "    </tr>\n",
       "    <tr>\n",
       "      <th>dry goods pasta</th>\n",
       "      <td>242580</td>\n",
       "      <td>189327</td>\n",
       "      <td>434720</td>\n",
       "    </tr>\n",
       "    <tr>\n",
       "      <th>frozen</th>\n",
       "      <td>609460</td>\n",
       "      <td>485283</td>\n",
       "      <td>1140000</td>\n",
       "    </tr>\n",
       "    <tr>\n",
       "      <th>household</th>\n",
       "      <td>196873</td>\n",
       "      <td>166926</td>\n",
       "      <td>374867</td>\n",
       "    </tr>\n",
       "    <tr>\n",
       "      <th>international</th>\n",
       "      <td>78394</td>\n",
       "      <td>57103</td>\n",
       "      <td>133756</td>\n",
       "    </tr>\n",
       "    <tr>\n",
       "      <th>meat seafood</th>\n",
       "      <td>202480</td>\n",
       "      <td>146610</td>\n",
       "      <td>359837</td>\n",
       "    </tr>\n",
       "    <tr>\n",
       "      <th>missing</th>\n",
       "      <td>18350</td>\n",
       "      <td>17090</td>\n",
       "      <td>33705</td>\n",
       "    </tr>\n",
       "    <tr>\n",
       "      <th>other</th>\n",
       "      <td>10715</td>\n",
       "      <td>7719</td>\n",
       "      <td>17857</td>\n",
       "    </tr>\n",
       "    <tr>\n",
       "      <th>pantry</th>\n",
       "      <td>560402</td>\n",
       "      <td>392240</td>\n",
       "      <td>922727</td>\n",
       "    </tr>\n",
       "    <tr>\n",
       "      <th>personal care</th>\n",
       "      <td>123365</td>\n",
       "      <td>98708</td>\n",
       "      <td>225499</td>\n",
       "    </tr>\n",
       "    <tr>\n",
       "      <th>pets</th>\n",
       "      <td>25469</td>\n",
       "      <td>20536</td>\n",
       "      <td>51711</td>\n",
       "    </tr>\n",
       "    <tr>\n",
       "      <th>produce</th>\n",
       "      <td>3147376</td>\n",
       "      <td>1736622</td>\n",
       "      <td>4595293</td>\n",
       "    </tr>\n",
       "    <tr>\n",
       "      <th>snacks</th>\n",
       "      <td>943150</td>\n",
       "      <td>534251</td>\n",
       "      <td>1410149</td>\n",
       "    </tr>\n",
       "  </tbody>\n",
       "</table>\n",
       "</div>"
      ],
      "text/plain": [
       "loyalty_flag     Loyal customer  New customer  Regular customer\n",
       "department                                                     \n",
       "alcohol                   38723         37698             77275\n",
       "babies                   167108         60118            196576\n",
       "bakery                   379873        223704            568851\n",
       "beverages                855017        512871           1320235\n",
       "breakfast                221577        138362            343094\n",
       "bulk                      13834          5271             15468\n",
       "canned goods             294594        236180            537284\n",
       "dairy eggs              1830707        971621           2596419\n",
       "deli                     324046        205750            521453\n",
       "dry goods pasta          242580        189327            434720\n",
       "frozen                   609460        485283           1140000\n",
       "household                196873        166926            374867\n",
       "international             78394         57103            133756\n",
       "meat seafood             202480        146610            359837\n",
       "missing                   18350         17090             33705\n",
       "other                     10715          7719             17857\n",
       "pantry                   560402        392240            922727\n",
       "personal care            123365         98708            225499\n",
       "pets                      25469         20536             51711\n",
       "produce                 3147376       1736622           4595293\n",
       "snacks                   943150        534251           1410149"
      ]
     },
     "execution_count": 123,
     "metadata": {},
     "output_type": "execute_result"
    }
   ],
   "source": [
    "# Compare 'department' with 'loyalty_flag'\n",
    "department_loyalty = pd.crosstab(df_all['department'], df_all['loyalty_flag'])\n",
    "department_loyalty"
   ]
  },
  {
   "cell_type": "code",
   "execution_count": 124,
   "id": "3ae13bb2",
   "metadata": {},
   "outputs": [
    {
     "data": {
      "image/png": "[encoded data removed]",
      "text/plain": [
       "<Figure size 640x480 with 1 Axes>"
      ]
     },
     "metadata": {},
     "output_type": "display_data"
    }
   ],
   "source": [
    "# Create a stacked bar chart for 'department_loyalty'\n",
    "bar14 = department_loyalty.plot(kind = 'bar', stacked = True)"
   ]
  },
  {
   "cell_type": "markdown",
   "id": "fcade847",
   "metadata": {},
   "source": [
    "> For all departments, regular customers are the majority."
   ]
  },
  {
   "cell_type": "code",
   "execution_count": 125,
   "id": "2919900e",
   "metadata": {},
   "outputs": [],
   "source": [
    "# Export chart\n",
    "bar14.figure.savefig(os.path.join(path, '04 Analysis','Visualizations', 'bar_department_vs_loyalty.png'))"
   ]
  },
  {
   "cell_type": "code",
   "execution_count": 129,
   "id": "93e272bf",
   "metadata": {},
   "outputs": [
    {
     "data": {
      "image/png": "[encoded data removed]",
      "text/plain": [
       "<Figure size 640x480 with 1 Axes>"
      ]
     },
     "metadata": {},
     "output_type": "display_data"
    }
   ],
   "source": [
    "# Create a pie chart for the 'baby_status' column\n",
    "pie3 = df_all['loyalty_flag'].value_counts().plot.pie(labels = ['Regular', 'Loyal', 'New'], autopct = ('%1.f%%'), colors = ['red','orange','yellow'])"
   ]
  },
  {
   "cell_type": "code",
   "execution_count": 130,
   "id": "f64d3a52",
   "metadata": {},
   "outputs": [],
   "source": [
    "# Export chart\n",
    "pie3.figure.savefig(os.path.join(path, '04 Analysis','Visualizations', 'pie_loyalty_flag.png'))"
   ]
  },
  {
   "cell_type": "code",
   "execution_count": 137,
   "id": "b89d0c17",
   "metadata": {},
   "outputs": [
    {
     "data": {
      "image/png": "[encoded data removed]",
      "text/plain": [
       "<Figure size 640x480 with 1 Axes>"
      ]
     },
     "metadata": {},
     "output_type": "display_data"
    }
   ],
   "source": [
    "# Compare 'spender_flag' with 'region'\n",
    "region_spender = pd.crosstab(df_all['Region'], df_all['spender_flag'])\n",
    "bar15 = region_spender.plot(kind = 'bar', stacked = True)"
   ]
  },
  {
   "cell_type": "code",
   "execution_count": 139,
   "id": "1fad3790",
   "metadata": {},
   "outputs": [
    {
     "data": {
      "image/png": "[encoded data removed]",
      "text/plain": [
       "<Figure size 640x480 with 1 Axes>"
      ]
     },
     "metadata": {},
     "output_type": "display_data"
    }
   ],
   "source": [
    "# Compare 'department' with 'region'\n",
    "department_region = pd.crosstab(df_all['department'], df_all['Region'])\n",
    "bar16 = department_region.plot(kind = 'bar', stacked = True)"
   ]
  },
  {
   "cell_type": "code",
   "execution_count": 136,
   "id": "45430176",
   "metadata": {},
   "outputs": [
    {
     "data": {
      "image/png": "[encoded data removed]",
      "text/plain": [
       "<Figure size 640x480 with 1 Axes>"
      ]
     },
     "metadata": {},
     "output_type": "display_data"
    }
   ],
   "source": [
    "# Compare 'spender_flag' with 'age_group'\n",
    "age_spender = pd.crosstab(df_all['age_group'], df_all['spender_flag'])\n",
    "bar17 = age_spender.plot(kind = 'bar', stacked = True)"
   ]
  },
  {
   "cell_type": "code",
   "execution_count": 138,
   "id": "9b0e5663",
   "metadata": {},
   "outputs": [
    {
     "data": {
      "image/png": "[encoded data removed]",
      "text/plain": [
       "<Figure size 640x480 with 1 Axes>"
      ]
     },
     "metadata": {},
     "output_type": "display_data"
    }
   ],
   "source": [
    "# Compare 'spender_flag' with 'family_status_group'\n",
    "age_spender = pd.crosstab(df_all['family_status_group'], df_all['spender_flag'])\n",
    "bar18 = age_spender.plot(kind = 'bar', stacked = True)"
   ]
  },
  {
   "cell_type": "code",
   "execution_count": 126,
   "id": "f9ecb27c",
   "metadata": {},
   "outputs": [],
   "source": [
    "# Export data in pickle format\n",
    "df_all.to_pickle(os.path.join(path, '02 Data','Prepared Data', 'orders_products_final.pkl'))"
   ]
  }
 ],
 "metadata": {
  "kernelspec": {
   "display_name": "Python 3 (ipykernel)",
   "language": "python",
   "name": "python3"
  },
  "language_info": {
   "codemirror_mode": {
    "name": "ipython",
    "version": 3
   },
   "file_extension": ".py",
   "mimetype": "text/x-python",
   "name": "python",
   "nbconvert_exporter": "python",
   "pygments_lexer": "ipython3",
   "version": "3.9.13"
  }
 },
 "nbformat": 4,
 "nbformat_minor": 5
}
